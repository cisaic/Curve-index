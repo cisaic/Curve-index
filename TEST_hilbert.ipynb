{
 "cells": [
  {
   "cell_type": "code",
   "execution_count": 170,
   "metadata": {},
   "outputs": [
    {
     "name": "stdout",
     "output_type": "stream",
     "text": [
      "4.7.1\n"
     ]
    }
   ],
   "source": [
    "import numpy as np\n",
    "from numpy import vstack\n",
    "import string\n",
    "import matplotlib.pyplot as plt\n",
    "import plotly as py\n",
    "import plotly.graph_objs as go\n",
    "print(py.__version__)\n",
    "from collections import defaultdict"
   ]
  },
  {
   "cell_type": "code",
   "execution_count": 177,
   "metadata": {},
   "outputs": [
    {
     "name": "stdout",
     "output_type": "stream",
     "text": [
      "['AAAA', 'AAAD', 'AAAC', 'AAAB', 'AABA', 'AABB', 'AABC', 'AABD', 'AACA', 'AACB', 'AACC', 'AACD', 'AADC', 'AADB', 'AADA', 'AADD', 'ADAA', 'ADAB', 'ADAC', 'ADAD', 'ADDA', 'ADDD', 'ADDC', 'ADDB', 'ADCA', 'ADCD', 'ADCC', 'ADCB', 'ADBC', 'ADBD', 'ADBA', 'ADBB', 'ACAA', 'ACAB', 'ACAC', 'ACAD', 'ACDA', 'ACDD', 'ACDC', 'ACDB', 'ACCA', 'ACCD', 'ACCC', 'ACCB', 'ACBC', 'ACBD', 'ACBA', 'ACBB', 'ABCC', 'ABCB', 'ABCA', 'ABCD', 'ABDC', 'ABDD', 'ABDA', 'ABDB', 'ABAC', 'ABAD', 'ABAA', 'ABAB', 'ABBA', 'ABBD', 'ABBC', 'ABBB', 'BAAA', 'BAAB', 'BAAC', 'BAAD', 'BADA', 'BADD', 'BADC', 'BADB', 'BACA', 'BACD', 'BACC', 'BACB', 'BABC', 'BABD', 'BABA', 'BABB', 'BBAA', 'BBAD', 'BBAC', 'BBAB', 'BBBA', 'BBBB', 'BBBC', 'BBBD', 'BBCA', 'BBCB', 'BBCC', 'BBCD', 'BBDC', 'BBDB', 'BBDA', 'BBDD', 'BCAA', 'BCAD', 'BCAC', 'BCAB', 'BCBA', 'BCBB', 'BCBC', 'BCBD', 'BCCA', 'BCCB', 'BCCC', 'BCCD', 'BCDC', 'BCDB', 'BCDA', 'BCDD', 'BDCC', 'BDCD', 'BDCA', 'BDCB', 'BDBC', 'BDBB', 'BDBA', 'BDBD', 'BDAC', 'BDAB', 'BDAA', 'BDAD', 'BDDA', 'BDDB', 'BDDC', 'BDDD', 'CAAA', 'CAAB', 'CAAC', 'CAAD', 'CADA', 'CADD', 'CADC', 'CADB', 'CACA', 'CACD', 'CACC', 'CACB', 'CABC', 'CABD', 'CABA', 'CABB', 'CBAA', 'CBAD', 'CBAC', 'CBAB', 'CBBA', 'CBBB', 'CBBC', 'CBBD', 'CBCA', 'CBCB', 'CBCC', 'CBCD', 'CBDC', 'CBDB', 'CBDA', 'CBDD', 'CCAA', 'CCAD', 'CCAC', 'CCAB', 'CCBA', 'CCBB', 'CCBC', 'CCBD', 'CCCA', 'CCCB', 'CCCC', 'CCCD', 'CCDC', 'CCDB', 'CCDA', 'CCDD', 'CDCC', 'CDCD', 'CDCA', 'CDCB', 'CDBC', 'CDBB', 'CDBA', 'CDBD', 'CDAC', 'CDAB', 'CDAA', 'CDAD', 'CDDA', 'CDDB', 'CDDC', 'CDDD', 'DCCC', 'DCCB', 'DCCA', 'DCCD', 'DCDC', 'DCDD', 'DCDA', 'DCDB', 'DCAC', 'DCAD', 'DCAA', 'DCAB', 'DCBA', 'DCBD', 'DCBC', 'DCBB', 'DBCC', 'DBCD', 'DBCA', 'DBCB', 'DBBC', 'DBBB', 'DBBA', 'DBBD', 'DBAC', 'DBAB', 'DBAA', 'DBAD', 'DBDA', 'DBDB', 'DBDC', 'DBDD', 'DACC', 'DACD', 'DACA', 'DACB', 'DABC', 'DABB', 'DABA', 'DABD', 'DAAC', 'DAAB', 'DAAA', 'DAAD', 'DADA', 'DADB', 'DADC', 'DADD', 'DDAA', 'DDAD', 'DDAC', 'DDAB', 'DDBA', 'DDBB', 'DDBC', 'DDBD', 'DDCA', 'DDCB', 'DDCC', 'DDCD', 'DDDC', 'DDDB', 'DDDA', 'DDDD']\n"
     ]
    }
   ],
   "source": [
    "class HilberCurveGenerator:\n",
    "    def __init__(self):\n",
    "        self.space_alphabet = 'ABCD'\n",
    "        self.recurrence_matrix = np.array([[0, 3, 2, 1],\n",
    "                                           [0, 1, 2, 3],\n",
    "                                           [0, 1, 2, 3],\n",
    "                                           [2, 1, 0, 3]\n",
    "                                           ]\n",
    "                                          )\n",
    "        self.quad_mappings = {'A': np.array([-1.0, -1.0]),\n",
    "                              'B': np.array([-1.0, 1.0]),\n",
    "                              'C': np.array([1.0, 1.0]),\n",
    "                              'D': np.array([1.0, -1.0])\n",
    "                              }\n",
    "\n",
    "    def __recurse(self, base_array=None):\n",
    "        if not base_array:\n",
    "            base_array = self.space_alphabet\n",
    "\n",
    "        next_results = []\n",
    "        # Initial Run?\n",
    "\n",
    "        if type(base_array) == str:\n",
    "            base_array = np.array(list(base_array))\n",
    "            # use idx to lookup reorder opperation to perform of base_array\n",
    "            for idx, quad in enumerate(base_array):\n",
    "                reorder_array = self.recurrence_matrix[idx]\n",
    "                reordered_base = base_array[reorder_array]\n",
    "                next_result = quad + '|' + ''.join(reordered_base)\n",
    "                next_results.append(next_result)\n",
    "        else:\n",
    "            for quad_data in base_array:\n",
    "                quad_base, base_array = quad_data.split('|')\n",
    "                reordered_bases = self.__recurse(base_array=base_array)\n",
    "                _ = [next_results.append(quad_base + reordered_base)\n",
    "                     for reordered_base in reordered_bases]\n",
    "        return next_results\n",
    "\n",
    "    def __expand_last_recursion(self, quad_values):\n",
    "        expanded_quads = []\n",
    "        for quad_data in quad_values:\n",
    "            quad_base, base_array = quad_data.split('|')\n",
    "            _ = [expanded_quads.append(quad_base + sub_quad)\n",
    "                 for sub_quad in base_array]\n",
    "        return expanded_quads\n",
    "\n",
    "    def generate_curve(self, plot_depth, return_plot_data=True):\n",
    "        trace_data = defaultdict(lambda: defaultdict(lambda: []))\n",
    "\n",
    "        recursed_data = None\n",
    "\n",
    "        for depth in range(1, plot_depth):\n",
    "            if not recursed_data:\n",
    "                recursed_data = self.__recurse(base_array=self.space_alphabet)\n",
    "            else:\n",
    "                recursed_data = self.__recurse(base_array=recursed_data)\n",
    "\n",
    "            quad_labels = self.__expand_last_recursion(recursed_data)\n",
    "\n",
    "        return quad_labels\n",
    "\n",
    "\n",
    "if __name__ == '__main__':\n",
    "    hc_gen = HilberCurveGenerator()\n",
    "    hc_seq = hc_gen.generate_curve(plot_depth=4)\n",
    "    print(hc_seq)"
   ]
  },
  {
   "cell_type": "code",
   "execution_count": 172,
   "metadata": {},
   "outputs": [],
   "source": [
    "def hilbert_index(seq):\n",
    "    '''\n",
    "    Converts input sequence into matrix index \n",
    "    for space filling curve in 4 quadrants ABCD\n",
    "    \n",
    "    Parameters:\n",
    "    ----------\n",
    "    seq: String\n",
    "        Input string to be converted \n",
    "        \n",
    "    Returns\n",
    "    -------\n",
    "    index: list\n",
    "        List of x,y matrix indices \n",
    "    '''\n",
    "    rules = {'a': np.array([0,0]),\n",
    "             'b': np.array([0,1]),\n",
    "             'c': np.array([1,1]),\n",
    "             'd': np.array([1,0])\n",
    "            }\n",
    "    dim = 2\n",
    "    index = np.array([])\n",
    "    \n",
    "    for order, val in enumerate(seq[::-1].lower()):\n",
    "        if index.size == 0:\n",
    "            index = np.zeros_like(rules[val])\n",
    "        index += (dim ** order) * rules[val] \n",
    "    \n",
    "    return index.tolist()"
   ]
  },
  {
   "cell_type": "code",
   "execution_count": 174,
   "metadata": {},
   "outputs": [],
   "source": [
    "order = 4\n",
    "coordinates = []\n",
    "for i, seq in enumerate(hc_seq):\n",
    "    coordinates.append(hilbert_index(seq))\n",
    "\n",
    "x_vals = [(x*2+1)/(2**(order+1)) for [x,y] in coordinates]\n",
    "y_vals = [(y*2+1)/(2**(order+1)) for [x,y] in coordinates]"
   ]
  },
  {
   "cell_type": "code",
   "execution_count": 175,
   "metadata": {},
   "outputs": [
    {
     "name": "stdout",
     "output_type": "stream",
     "text": [
      "[12, 5]\n",
      "0.78125\n",
      "0.34375\n"
     ]
    }
   ],
   "source": [
    "h_i = hilbert_index('dcab')\n",
    "print(h_i)\n",
    "h_x = h_i[0]\n",
    "h_y = h_i[1]\n",
    "print((h_x*2+1)/(2**(order+1)))\n",
    "print((h_y*2+1)/(2**(order+1)))"
   ]
  },
  {
   "cell_type": "code",
   "execution_count": 176,
   "metadata": {},
   "outputs": [
    {
     "data": {
      "application/vnd.plotly.v1+json": {
       "config": {
        "plotlyServerURL": "https://plot.ly"
       },
       "data": [
        {
         "line": {
          "color": "#677193",
          "width": 2
         },
         "marker": {
          "color": [
           0.03125,
           0.09375,
           0.09375,
           0.03125,
           0.03125,
           0.03125,
           0.09375,
           0.09375,
           0.15625,
           0.15625,
           0.21875,
           0.21875,
           0.21875,
           0.15625,
           0.15625,
           0.21875,
           0.28125,
           0.28125,
           0.34375,
           0.34375,
           0.40625,
           0.46875,
           0.46875,
           0.40625,
           0.40625,
           0.46875,
           0.46875,
           0.40625,
           0.34375,
           0.34375,
           0.28125,
           0.28125,
           0.28125,
           0.28125,
           0.34375,
           0.34375,
           0.40625,
           0.46875,
           0.46875,
           0.40625,
           0.40625,
           0.46875,
           0.46875,
           0.40625,
           0.34375,
           0.34375,
           0.28125,
           0.28125,
           0.21875,
           0.15625,
           0.15625,
           0.21875,
           0.21875,
           0.21875,
           0.15625,
           0.15625,
           0.09375,
           0.09375,
           0.03125,
           0.03125,
           0.03125,
           0.09375,
           0.09375,
           0.03125,
           0.03125,
           0.03125,
           0.09375,
           0.09375,
           0.15625,
           0.21875,
           0.21875,
           0.15625,
           0.15625,
           0.21875,
           0.21875,
           0.15625,
           0.09375,
           0.09375,
           0.03125,
           0.03125,
           0.03125,
           0.09375,
           0.09375,
           0.03125,
           0.03125,
           0.03125,
           0.09375,
           0.09375,
           0.15625,
           0.15625,
           0.21875,
           0.21875,
           0.21875,
           0.15625,
           0.15625,
           0.21875,
           0.28125,
           0.34375,
           0.34375,
           0.28125,
           0.28125,
           0.28125,
           0.34375,
           0.34375,
           0.40625,
           0.40625,
           0.46875,
           0.46875,
           0.46875,
           0.40625,
           0.40625,
           0.46875,
           0.46875,
           0.46875,
           0.40625,
           0.40625,
           0.34375,
           0.28125,
           0.28125,
           0.34375,
           0.34375,
           0.28125,
           0.28125,
           0.34375,
           0.40625,
           0.40625,
           0.46875,
           0.46875,
           0.53125,
           0.53125,
           0.59375,
           0.59375,
           0.65625,
           0.71875,
           0.71875,
           0.65625,
           0.65625,
           0.71875,
           0.71875,
           0.65625,
           0.59375,
           0.59375,
           0.53125,
           0.53125,
           0.53125,
           0.59375,
           0.59375,
           0.53125,
           0.53125,
           0.53125,
           0.59375,
           0.59375,
           0.65625,
           0.65625,
           0.71875,
           0.71875,
           0.71875,
           0.65625,
           0.65625,
           0.71875,
           0.78125,
           0.84375,
           0.84375,
           0.78125,
           0.78125,
           0.78125,
           0.84375,
           0.84375,
           0.90625,
           0.90625,
           0.96875,
           0.96875,
           0.96875,
           0.90625,
           0.90625,
           0.96875,
           0.96875,
           0.96875,
           0.90625,
           0.90625,
           0.84375,
           0.78125,
           0.78125,
           0.84375,
           0.84375,
           0.78125,
           0.78125,
           0.84375,
           0.90625,
           0.90625,
           0.96875,
           0.96875,
           0.96875,
           0.90625,
           0.90625,
           0.96875,
           0.96875,
           0.96875,
           0.90625,
           0.90625,
           0.84375,
           0.84375,
           0.78125,
           0.78125,
           0.78125,
           0.84375,
           0.84375,
           0.78125,
           0.71875,
           0.71875,
           0.65625,
           0.65625,
           0.59375,
           0.53125,
           0.53125,
           0.59375,
           0.59375,
           0.53125,
           0.53125,
           0.59375,
           0.65625,
           0.65625,
           0.71875,
           0.71875,
           0.71875,
           0.71875,
           0.65625,
           0.65625,
           0.59375,
           0.53125,
           0.53125,
           0.59375,
           0.59375,
           0.53125,
           0.53125,
           0.59375,
           0.65625,
           0.65625,
           0.71875,
           0.71875,
           0.78125,
           0.84375,
           0.84375,
           0.78125,
           0.78125,
           0.78125,
           0.84375,
           0.84375,
           0.90625,
           0.90625,
           0.96875,
           0.96875,
           0.96875,
           0.90625,
           0.90625,
           0.96875
          ],
          "colorscale": [
           [
            0,
            "#440154"
           ],
           [
            0.1111111111111111,
            "#482878"
           ],
           [
            0.2222222222222222,
            "#3e4989"
           ],
           [
            0.3333333333333333,
            "#31688e"
           ],
           [
            0.4444444444444444,
            "#26828e"
           ],
           [
            0.5555555555555556,
            "#1f9e89"
           ],
           [
            0.6666666666666666,
            "#35b779"
           ],
           [
            0.7777777777777778,
            "#6ece58"
           ],
           [
            0.8888888888888888,
            "#b5de2b"
           ],
           [
            1,
            "#fde725"
           ]
          ],
          "size": 5
         },
         "mode": "lines+markers",
         "name": "hilbert-curve-order2",
         "type": "scatter",
         "x": [
          0.03125,
          0.09375,
          0.09375,
          0.03125,
          0.03125,
          0.03125,
          0.09375,
          0.09375,
          0.15625,
          0.15625,
          0.21875,
          0.21875,
          0.21875,
          0.15625,
          0.15625,
          0.21875,
          0.28125,
          0.28125,
          0.34375,
          0.34375,
          0.40625,
          0.46875,
          0.46875,
          0.40625,
          0.40625,
          0.46875,
          0.46875,
          0.40625,
          0.34375,
          0.34375,
          0.28125,
          0.28125,
          0.28125,
          0.28125,
          0.34375,
          0.34375,
          0.40625,
          0.46875,
          0.46875,
          0.40625,
          0.40625,
          0.46875,
          0.46875,
          0.40625,
          0.34375,
          0.34375,
          0.28125,
          0.28125,
          0.21875,
          0.15625,
          0.15625,
          0.21875,
          0.21875,
          0.21875,
          0.15625,
          0.15625,
          0.09375,
          0.09375,
          0.03125,
          0.03125,
          0.03125,
          0.09375,
          0.09375,
          0.03125,
          0.03125,
          0.03125,
          0.09375,
          0.09375,
          0.15625,
          0.21875,
          0.21875,
          0.15625,
          0.15625,
          0.21875,
          0.21875,
          0.15625,
          0.09375,
          0.09375,
          0.03125,
          0.03125,
          0.03125,
          0.09375,
          0.09375,
          0.03125,
          0.03125,
          0.03125,
          0.09375,
          0.09375,
          0.15625,
          0.15625,
          0.21875,
          0.21875,
          0.21875,
          0.15625,
          0.15625,
          0.21875,
          0.28125,
          0.34375,
          0.34375,
          0.28125,
          0.28125,
          0.28125,
          0.34375,
          0.34375,
          0.40625,
          0.40625,
          0.46875,
          0.46875,
          0.46875,
          0.40625,
          0.40625,
          0.46875,
          0.46875,
          0.46875,
          0.40625,
          0.40625,
          0.34375,
          0.28125,
          0.28125,
          0.34375,
          0.34375,
          0.28125,
          0.28125,
          0.34375,
          0.40625,
          0.40625,
          0.46875,
          0.46875,
          0.53125,
          0.53125,
          0.59375,
          0.59375,
          0.65625,
          0.71875,
          0.71875,
          0.65625,
          0.65625,
          0.71875,
          0.71875,
          0.65625,
          0.59375,
          0.59375,
          0.53125,
          0.53125,
          0.53125,
          0.59375,
          0.59375,
          0.53125,
          0.53125,
          0.53125,
          0.59375,
          0.59375,
          0.65625,
          0.65625,
          0.71875,
          0.71875,
          0.71875,
          0.65625,
          0.65625,
          0.71875,
          0.78125,
          0.84375,
          0.84375,
          0.78125,
          0.78125,
          0.78125,
          0.84375,
          0.84375,
          0.90625,
          0.90625,
          0.96875,
          0.96875,
          0.96875,
          0.90625,
          0.90625,
          0.96875,
          0.96875,
          0.96875,
          0.90625,
          0.90625,
          0.84375,
          0.78125,
          0.78125,
          0.84375,
          0.84375,
          0.78125,
          0.78125,
          0.84375,
          0.90625,
          0.90625,
          0.96875,
          0.96875,
          0.96875,
          0.90625,
          0.90625,
          0.96875,
          0.96875,
          0.96875,
          0.90625,
          0.90625,
          0.84375,
          0.84375,
          0.78125,
          0.78125,
          0.78125,
          0.84375,
          0.84375,
          0.78125,
          0.71875,
          0.71875,
          0.65625,
          0.65625,
          0.59375,
          0.53125,
          0.53125,
          0.59375,
          0.59375,
          0.53125,
          0.53125,
          0.59375,
          0.65625,
          0.65625,
          0.71875,
          0.71875,
          0.71875,
          0.71875,
          0.65625,
          0.65625,
          0.59375,
          0.53125,
          0.53125,
          0.59375,
          0.59375,
          0.53125,
          0.53125,
          0.59375,
          0.65625,
          0.65625,
          0.71875,
          0.71875,
          0.78125,
          0.84375,
          0.84375,
          0.78125,
          0.78125,
          0.78125,
          0.84375,
          0.84375,
          0.90625,
          0.90625,
          0.96875,
          0.96875,
          0.96875,
          0.90625,
          0.90625,
          0.96875
         ],
         "y": [
          0.03125,
          0.03125,
          0.09375,
          0.09375,
          0.15625,
          0.21875,
          0.21875,
          0.15625,
          0.15625,
          0.21875,
          0.21875,
          0.15625,
          0.09375,
          0.09375,
          0.03125,
          0.03125,
          0.03125,
          0.09375,
          0.09375,
          0.03125,
          0.03125,
          0.03125,
          0.09375,
          0.09375,
          0.15625,
          0.15625,
          0.21875,
          0.21875,
          0.21875,
          0.15625,
          0.15625,
          0.21875,
          0.28125,
          0.34375,
          0.34375,
          0.28125,
          0.28125,
          0.28125,
          0.34375,
          0.34375,
          0.40625,
          0.40625,
          0.46875,
          0.46875,
          0.46875,
          0.40625,
          0.40625,
          0.46875,
          0.46875,
          0.46875,
          0.40625,
          0.40625,
          0.34375,
          0.28125,
          0.28125,
          0.34375,
          0.34375,
          0.28125,
          0.28125,
          0.34375,
          0.40625,
          0.40625,
          0.46875,
          0.46875,
          0.53125,
          0.59375,
          0.59375,
          0.53125,
          0.53125,
          0.53125,
          0.59375,
          0.59375,
          0.65625,
          0.65625,
          0.71875,
          0.71875,
          0.71875,
          0.65625,
          0.65625,
          0.71875,
          0.78125,
          0.78125,
          0.84375,
          0.84375,
          0.90625,
          0.96875,
          0.96875,
          0.90625,
          0.90625,
          0.96875,
          0.96875,
          0.90625,
          0.84375,
          0.84375,
          0.78125,
          0.78125,
          0.78125,
          0.78125,
          0.84375,
          0.84375,
          0.90625,
          0.96875,
          0.96875,
          0.90625,
          0.90625,
          0.96875,
          0.96875,
          0.90625,
          0.84375,
          0.84375,
          0.78125,
          0.78125,
          0.71875,
          0.65625,
          0.65625,
          0.71875,
          0.71875,
          0.71875,
          0.65625,
          0.65625,
          0.59375,
          0.59375,
          0.53125,
          0.53125,
          0.53125,
          0.59375,
          0.59375,
          0.53125,
          0.53125,
          0.59375,
          0.59375,
          0.53125,
          0.53125,
          0.53125,
          0.59375,
          0.59375,
          0.65625,
          0.65625,
          0.71875,
          0.71875,
          0.71875,
          0.65625,
          0.65625,
          0.71875,
          0.78125,
          0.78125,
          0.84375,
          0.84375,
          0.90625,
          0.96875,
          0.96875,
          0.90625,
          0.90625,
          0.96875,
          0.96875,
          0.90625,
          0.84375,
          0.84375,
          0.78125,
          0.78125,
          0.78125,
          0.78125,
          0.84375,
          0.84375,
          0.90625,
          0.96875,
          0.96875,
          0.90625,
          0.90625,
          0.96875,
          0.96875,
          0.90625,
          0.84375,
          0.84375,
          0.78125,
          0.78125,
          0.71875,
          0.65625,
          0.65625,
          0.71875,
          0.71875,
          0.71875,
          0.65625,
          0.65625,
          0.59375,
          0.59375,
          0.53125,
          0.53125,
          0.53125,
          0.59375,
          0.59375,
          0.53125,
          0.46875,
          0.46875,
          0.40625,
          0.40625,
          0.34375,
          0.28125,
          0.28125,
          0.34375,
          0.34375,
          0.28125,
          0.28125,
          0.34375,
          0.40625,
          0.40625,
          0.46875,
          0.46875,
          0.46875,
          0.40625,
          0.40625,
          0.46875,
          0.46875,
          0.46875,
          0.40625,
          0.40625,
          0.34375,
          0.34375,
          0.28125,
          0.28125,
          0.28125,
          0.34375,
          0.34375,
          0.28125,
          0.21875,
          0.15625,
          0.15625,
          0.21875,
          0.21875,
          0.21875,
          0.15625,
          0.15625,
          0.09375,
          0.09375,
          0.03125,
          0.03125,
          0.03125,
          0.09375,
          0.09375,
          0.03125,
          0.03125,
          0.03125,
          0.09375,
          0.09375,
          0.15625,
          0.21875,
          0.21875,
          0.15625,
          0.15625,
          0.21875,
          0.21875,
          0.15625,
          0.09375,
          0.09375,
          0.03125,
          0.03125
         ]
        },
        {
         "marker": {
          "color": "#e377c2",
          "size": 10
         },
         "mode": "markers",
         "name": "point",
         "type": "scatter",
         "x": [
          0.78125
         ],
         "y": [
          0.34375
         ]
        }
       ],
       "layout": {
        "autosize": true,
        "plot_bgcolor": "white",
        "template": {
         "data": {
          "bar": [
           {
            "error_x": {
             "color": "#2a3f5f"
            },
            "error_y": {
             "color": "#2a3f5f"
            },
            "marker": {
             "line": {
              "color": "#E5ECF6",
              "width": 0.5
             }
            },
            "type": "bar"
           }
          ],
          "barpolar": [
           {
            "marker": {
             "line": {
              "color": "#E5ECF6",
              "width": 0.5
             }
            },
            "type": "barpolar"
           }
          ],
          "carpet": [
           {
            "aaxis": {
             "endlinecolor": "#2a3f5f",
             "gridcolor": "white",
             "linecolor": "white",
             "minorgridcolor": "white",
             "startlinecolor": "#2a3f5f"
            },
            "baxis": {
             "endlinecolor": "#2a3f5f",
             "gridcolor": "white",
             "linecolor": "white",
             "minorgridcolor": "white",
             "startlinecolor": "#2a3f5f"
            },
            "type": "carpet"
           }
          ],
          "choropleth": [
           {
            "colorbar": {
             "outlinewidth": 0,
             "ticks": ""
            },
            "type": "choropleth"
           }
          ],
          "contour": [
           {
            "colorbar": {
             "outlinewidth": 0,
             "ticks": ""
            },
            "colorscale": [
             [
              0,
              "#0d0887"
             ],
             [
              0.1111111111111111,
              "#46039f"
             ],
             [
              0.2222222222222222,
              "#7201a8"
             ],
             [
              0.3333333333333333,
              "#9c179e"
             ],
             [
              0.4444444444444444,
              "#bd3786"
             ],
             [
              0.5555555555555556,
              "#d8576b"
             ],
             [
              0.6666666666666666,
              "#ed7953"
             ],
             [
              0.7777777777777778,
              "#fb9f3a"
             ],
             [
              0.8888888888888888,
              "#fdca26"
             ],
             [
              1,
              "#f0f921"
             ]
            ],
            "type": "contour"
           }
          ],
          "contourcarpet": [
           {
            "colorbar": {
             "outlinewidth": 0,
             "ticks": ""
            },
            "type": "contourcarpet"
           }
          ],
          "heatmap": [
           {
            "colorbar": {
             "outlinewidth": 0,
             "ticks": ""
            },
            "colorscale": [
             [
              0,
              "#0d0887"
             ],
             [
              0.1111111111111111,
              "#46039f"
             ],
             [
              0.2222222222222222,
              "#7201a8"
             ],
             [
              0.3333333333333333,
              "#9c179e"
             ],
             [
              0.4444444444444444,
              "#bd3786"
             ],
             [
              0.5555555555555556,
              "#d8576b"
             ],
             [
              0.6666666666666666,
              "#ed7953"
             ],
             [
              0.7777777777777778,
              "#fb9f3a"
             ],
             [
              0.8888888888888888,
              "#fdca26"
             ],
             [
              1,
              "#f0f921"
             ]
            ],
            "type": "heatmap"
           }
          ],
          "heatmapgl": [
           {
            "colorbar": {
             "outlinewidth": 0,
             "ticks": ""
            },
            "colorscale": [
             [
              0,
              "#0d0887"
             ],
             [
              0.1111111111111111,
              "#46039f"
             ],
             [
              0.2222222222222222,
              "#7201a8"
             ],
             [
              0.3333333333333333,
              "#9c179e"
             ],
             [
              0.4444444444444444,
              "#bd3786"
             ],
             [
              0.5555555555555556,
              "#d8576b"
             ],
             [
              0.6666666666666666,
              "#ed7953"
             ],
             [
              0.7777777777777778,
              "#fb9f3a"
             ],
             [
              0.8888888888888888,
              "#fdca26"
             ],
             [
              1,
              "#f0f921"
             ]
            ],
            "type": "heatmapgl"
           }
          ],
          "histogram": [
           {
            "marker": {
             "colorbar": {
              "outlinewidth": 0,
              "ticks": ""
             }
            },
            "type": "histogram"
           }
          ],
          "histogram2d": [
           {
            "colorbar": {
             "outlinewidth": 0,
             "ticks": ""
            },
            "colorscale": [
             [
              0,
              "#0d0887"
             ],
             [
              0.1111111111111111,
              "#46039f"
             ],
             [
              0.2222222222222222,
              "#7201a8"
             ],
             [
              0.3333333333333333,
              "#9c179e"
             ],
             [
              0.4444444444444444,
              "#bd3786"
             ],
             [
              0.5555555555555556,
              "#d8576b"
             ],
             [
              0.6666666666666666,
              "#ed7953"
             ],
             [
              0.7777777777777778,
              "#fb9f3a"
             ],
             [
              0.8888888888888888,
              "#fdca26"
             ],
             [
              1,
              "#f0f921"
             ]
            ],
            "type": "histogram2d"
           }
          ],
          "histogram2dcontour": [
           {
            "colorbar": {
             "outlinewidth": 0,
             "ticks": ""
            },
            "colorscale": [
             [
              0,
              "#0d0887"
             ],
             [
              0.1111111111111111,
              "#46039f"
             ],
             [
              0.2222222222222222,
              "#7201a8"
             ],
             [
              0.3333333333333333,
              "#9c179e"
             ],
             [
              0.4444444444444444,
              "#bd3786"
             ],
             [
              0.5555555555555556,
              "#d8576b"
             ],
             [
              0.6666666666666666,
              "#ed7953"
             ],
             [
              0.7777777777777778,
              "#fb9f3a"
             ],
             [
              0.8888888888888888,
              "#fdca26"
             ],
             [
              1,
              "#f0f921"
             ]
            ],
            "type": "histogram2dcontour"
           }
          ],
          "mesh3d": [
           {
            "colorbar": {
             "outlinewidth": 0,
             "ticks": ""
            },
            "type": "mesh3d"
           }
          ],
          "parcoords": [
           {
            "line": {
             "colorbar": {
              "outlinewidth": 0,
              "ticks": ""
             }
            },
            "type": "parcoords"
           }
          ],
          "pie": [
           {
            "automargin": true,
            "type": "pie"
           }
          ],
          "scatter": [
           {
            "marker": {
             "colorbar": {
              "outlinewidth": 0,
              "ticks": ""
             }
            },
            "type": "scatter"
           }
          ],
          "scatter3d": [
           {
            "line": {
             "colorbar": {
              "outlinewidth": 0,
              "ticks": ""
             }
            },
            "marker": {
             "colorbar": {
              "outlinewidth": 0,
              "ticks": ""
             }
            },
            "type": "scatter3d"
           }
          ],
          "scattercarpet": [
           {
            "marker": {
             "colorbar": {
              "outlinewidth": 0,
              "ticks": ""
             }
            },
            "type": "scattercarpet"
           }
          ],
          "scattergeo": [
           {
            "marker": {
             "colorbar": {
              "outlinewidth": 0,
              "ticks": ""
             }
            },
            "type": "scattergeo"
           }
          ],
          "scattergl": [
           {
            "marker": {
             "colorbar": {
              "outlinewidth": 0,
              "ticks": ""
             }
            },
            "type": "scattergl"
           }
          ],
          "scattermapbox": [
           {
            "marker": {
             "colorbar": {
              "outlinewidth": 0,
              "ticks": ""
             }
            },
            "type": "scattermapbox"
           }
          ],
          "scatterpolar": [
           {
            "marker": {
             "colorbar": {
              "outlinewidth": 0,
              "ticks": ""
             }
            },
            "type": "scatterpolar"
           }
          ],
          "scatterpolargl": [
           {
            "marker": {
             "colorbar": {
              "outlinewidth": 0,
              "ticks": ""
             }
            },
            "type": "scatterpolargl"
           }
          ],
          "scatterternary": [
           {
            "marker": {
             "colorbar": {
              "outlinewidth": 0,
              "ticks": ""
             }
            },
            "type": "scatterternary"
           }
          ],
          "surface": [
           {
            "colorbar": {
             "outlinewidth": 0,
             "ticks": ""
            },
            "colorscale": [
             [
              0,
              "#0d0887"
             ],
             [
              0.1111111111111111,
              "#46039f"
             ],
             [
              0.2222222222222222,
              "#7201a8"
             ],
             [
              0.3333333333333333,
              "#9c179e"
             ],
             [
              0.4444444444444444,
              "#bd3786"
             ],
             [
              0.5555555555555556,
              "#d8576b"
             ],
             [
              0.6666666666666666,
              "#ed7953"
             ],
             [
              0.7777777777777778,
              "#fb9f3a"
             ],
             [
              0.8888888888888888,
              "#fdca26"
             ],
             [
              1,
              "#f0f921"
             ]
            ],
            "type": "surface"
           }
          ],
          "table": [
           {
            "cells": {
             "fill": {
              "color": "#EBF0F8"
             },
             "line": {
              "color": "white"
             }
            },
            "header": {
             "fill": {
              "color": "#C8D4E3"
             },
             "line": {
              "color": "white"
             }
            },
            "type": "table"
           }
          ]
         },
         "layout": {
          "annotationdefaults": {
           "arrowcolor": "#2a3f5f",
           "arrowhead": 0,
           "arrowwidth": 1
          },
          "coloraxis": {
           "colorbar": {
            "outlinewidth": 0,
            "ticks": ""
           }
          },
          "colorscale": {
           "diverging": [
            [
             0,
             "#8e0152"
            ],
            [
             0.1,
             "#c51b7d"
            ],
            [
             0.2,
             "#de77ae"
            ],
            [
             0.3,
             "#f1b6da"
            ],
            [
             0.4,
             "#fde0ef"
            ],
            [
             0.5,
             "#f7f7f7"
            ],
            [
             0.6,
             "#e6f5d0"
            ],
            [
             0.7,
             "#b8e186"
            ],
            [
             0.8,
             "#7fbc41"
            ],
            [
             0.9,
             "#4d9221"
            ],
            [
             1,
             "#276419"
            ]
           ],
           "sequential": [
            [
             0,
             "#0d0887"
            ],
            [
             0.1111111111111111,
             "#46039f"
            ],
            [
             0.2222222222222222,
             "#7201a8"
            ],
            [
             0.3333333333333333,
             "#9c179e"
            ],
            [
             0.4444444444444444,
             "#bd3786"
            ],
            [
             0.5555555555555556,
             "#d8576b"
            ],
            [
             0.6666666666666666,
             "#ed7953"
            ],
            [
             0.7777777777777778,
             "#fb9f3a"
            ],
            [
             0.8888888888888888,
             "#fdca26"
            ],
            [
             1,
             "#f0f921"
            ]
           ],
           "sequentialminus": [
            [
             0,
             "#0d0887"
            ],
            [
             0.1111111111111111,
             "#46039f"
            ],
            [
             0.2222222222222222,
             "#7201a8"
            ],
            [
             0.3333333333333333,
             "#9c179e"
            ],
            [
             0.4444444444444444,
             "#bd3786"
            ],
            [
             0.5555555555555556,
             "#d8576b"
            ],
            [
             0.6666666666666666,
             "#ed7953"
            ],
            [
             0.7777777777777778,
             "#fb9f3a"
            ],
            [
             0.8888888888888888,
             "#fdca26"
            ],
            [
             1,
             "#f0f921"
            ]
           ]
          },
          "colorway": [
           "#636efa",
           "#EF553B",
           "#00cc96",
           "#ab63fa",
           "#FFA15A",
           "#19d3f3",
           "#FF6692",
           "#B6E880",
           "#FF97FF",
           "#FECB52"
          ],
          "font": {
           "color": "#2a3f5f"
          },
          "geo": {
           "bgcolor": "white",
           "lakecolor": "white",
           "landcolor": "#E5ECF6",
           "showlakes": true,
           "showland": true,
           "subunitcolor": "white"
          },
          "hoverlabel": {
           "align": "left"
          },
          "hovermode": "closest",
          "mapbox": {
           "style": "light"
          },
          "paper_bgcolor": "white",
          "plot_bgcolor": "#E5ECF6",
          "polar": {
           "angularaxis": {
            "gridcolor": "white",
            "linecolor": "white",
            "ticks": ""
           },
           "bgcolor": "#E5ECF6",
           "radialaxis": {
            "gridcolor": "white",
            "linecolor": "white",
            "ticks": ""
           }
          },
          "scene": {
           "xaxis": {
            "backgroundcolor": "#E5ECF6",
            "gridcolor": "white",
            "gridwidth": 2,
            "linecolor": "white",
            "showbackground": true,
            "ticks": "",
            "zerolinecolor": "white"
           },
           "yaxis": {
            "backgroundcolor": "#E5ECF6",
            "gridcolor": "white",
            "gridwidth": 2,
            "linecolor": "white",
            "showbackground": true,
            "ticks": "",
            "zerolinecolor": "white"
           },
           "zaxis": {
            "backgroundcolor": "#E5ECF6",
            "gridcolor": "white",
            "gridwidth": 2,
            "linecolor": "white",
            "showbackground": true,
            "ticks": "",
            "zerolinecolor": "white"
           }
          },
          "shapedefaults": {
           "line": {
            "color": "#2a3f5f"
           }
          },
          "ternary": {
           "aaxis": {
            "gridcolor": "white",
            "linecolor": "white",
            "ticks": ""
           },
           "baxis": {
            "gridcolor": "white",
            "linecolor": "white",
            "ticks": ""
           },
           "bgcolor": "#E5ECF6",
           "caxis": {
            "gridcolor": "white",
            "linecolor": "white",
            "ticks": ""
           }
          },
          "title": {
           "x": 0.05
          },
          "xaxis": {
           "automargin": true,
           "gridcolor": "white",
           "linecolor": "white",
           "ticks": "",
           "title": {
            "standoff": 15
           },
           "zerolinecolor": "white",
           "zerolinewidth": 2
          },
          "yaxis": {
           "automargin": true,
           "gridcolor": "white",
           "linecolor": "white",
           "ticks": "",
           "title": {
            "standoff": 15
           },
           "zerolinecolor": "white",
           "zerolinewidth": 2
          }
         }
        },
        "xaxis": {
         "constrain": "domain",
         "domain": [
          0.3066360387953037,
          0.6933639612046962
         ],
         "range": [
          0,
          1
         ],
         "type": "linear"
        },
        "yaxis": {
         "autorange": true,
         "domain": [
          0,
          1
         ],
         "range": [
          -0.03458289334741288,
          1.0345828933474128
         ],
         "scaleanchor": "x",
         "scaleratio": 1,
         "type": "linear"
        }
       }
      },
      "image/png": "[encoded data removed]",
      "text/html": [
       "<div>\n",
       "        \n",
       "        \n",
       "            <div id=\"ff9b598f-e4cf-4e62-9dcf-98d3de6b9074\" class=\"plotly-graph-div\" style=\"height:525px; width:100%;\"></div>\n",
       "            <script type=\"text/javascript\">\n",
       "                require([\"plotly\"], function(Plotly) {\n",
       "                    window.PLOTLYENV=window.PLOTLYENV || {};\n",
       "                    \n",
       "                if (document.getElementById(\"ff9b598f-e4cf-4e62-9dcf-98d3de6b9074\")) {\n",
       "                    Plotly.newPlot(\n",
       "                        'ff9b598f-e4cf-4e62-9dcf-98d3de6b9074',\n",
       "                        [{\"line\": {\"color\": \"#677193\", \"width\": 2}, \"marker\": {\"color\": [0.03125, 0.09375, 0.09375, 0.03125, 0.03125, 0.03125, 0.09375, 0.09375, 0.15625, 0.15625, 0.21875, 0.21875, 0.21875, 0.15625, 0.15625, 0.21875, 0.28125, 0.28125, 0.34375, 0.34375, 0.40625, 0.46875, 0.46875, 0.40625, 0.40625, 0.46875, 0.46875, 0.40625, 0.34375, 0.34375, 0.28125, 0.28125, 0.28125, 0.28125, 0.34375, 0.34375, 0.40625, 0.46875, 0.46875, 0.40625, 0.40625, 0.46875, 0.46875, 0.40625, 0.34375, 0.34375, 0.28125, 0.28125, 0.21875, 0.15625, 0.15625, 0.21875, 0.21875, 0.21875, 0.15625, 0.15625, 0.09375, 0.09375, 0.03125, 0.03125, 0.03125, 0.09375, 0.09375, 0.03125, 0.03125, 0.03125, 0.09375, 0.09375, 0.15625, 0.21875, 0.21875, 0.15625, 0.15625, 0.21875, 0.21875, 0.15625, 0.09375, 0.09375, 0.03125, 0.03125, 0.03125, 0.09375, 0.09375, 0.03125, 0.03125, 0.03125, 0.09375, 0.09375, 0.15625, 0.15625, 0.21875, 0.21875, 0.21875, 0.15625, 0.15625, 0.21875, 0.28125, 0.34375, 0.34375, 0.28125, 0.28125, 0.28125, 0.34375, 0.34375, 0.40625, 0.40625, 0.46875, 0.46875, 0.46875, 0.40625, 0.40625, 0.46875, 0.46875, 0.46875, 0.40625, 0.40625, 0.34375, 0.28125, 0.28125, 0.34375, 0.34375, 0.28125, 0.28125, 0.34375, 0.40625, 0.40625, 0.46875, 0.46875, 0.53125, 0.53125, 0.59375, 0.59375, 0.65625, 0.71875, 0.71875, 0.65625, 0.65625, 0.71875, 0.71875, 0.65625, 0.59375, 0.59375, 0.53125, 0.53125, 0.53125, 0.59375, 0.59375, 0.53125, 0.53125, 0.53125, 0.59375, 0.59375, 0.65625, 0.65625, 0.71875, 0.71875, 0.71875, 0.65625, 0.65625, 0.71875, 0.78125, 0.84375, 0.84375, 0.78125, 0.78125, 0.78125, 0.84375, 0.84375, 0.90625, 0.90625, 0.96875, 0.96875, 0.96875, 0.90625, 0.90625, 0.96875, 0.96875, 0.96875, 0.90625, 0.90625, 0.84375, 0.78125, 0.78125, 0.84375, 0.84375, 0.78125, 0.78125, 0.84375, 0.90625, 0.90625, 0.96875, 0.96875, 0.96875, 0.90625, 0.90625, 0.96875, 0.96875, 0.96875, 0.90625, 0.90625, 0.84375, 0.84375, 0.78125, 0.78125, 0.78125, 0.84375, 0.84375, 0.78125, 0.71875, 0.71875, 0.65625, 0.65625, 0.59375, 0.53125, 0.53125, 0.59375, 0.59375, 0.53125, 0.53125, 0.59375, 0.65625, 0.65625, 0.71875, 0.71875, 0.71875, 0.71875, 0.65625, 0.65625, 0.59375, 0.53125, 0.53125, 0.59375, 0.59375, 0.53125, 0.53125, 0.59375, 0.65625, 0.65625, 0.71875, 0.71875, 0.78125, 0.84375, 0.84375, 0.78125, 0.78125, 0.78125, 0.84375, 0.84375, 0.90625, 0.90625, 0.96875, 0.96875, 0.96875, 0.90625, 0.90625, 0.96875], \"colorscale\": [[0.0, \"#440154\"], [0.1111111111111111, \"#482878\"], [0.2222222222222222, \"#3e4989\"], [0.3333333333333333, \"#31688e\"], [0.4444444444444444, \"#26828e\"], [0.5555555555555556, \"#1f9e89\"], [0.6666666666666666, \"#35b779\"], [0.7777777777777778, \"#6ece58\"], [0.8888888888888888, \"#b5de2b\"], [1.0, \"#fde725\"]], \"size\": 5}, \"mode\": \"lines+markers\", \"name\": \"hilbert-curve-order2\", \"type\": \"scatter\", \"x\": [0.03125, 0.09375, 0.09375, 0.03125, 0.03125, 0.03125, 0.09375, 0.09375, 0.15625, 0.15625, 0.21875, 0.21875, 0.21875, 0.15625, 0.15625, 0.21875, 0.28125, 0.28125, 0.34375, 0.34375, 0.40625, 0.46875, 0.46875, 0.40625, 0.40625, 0.46875, 0.46875, 0.40625, 0.34375, 0.34375, 0.28125, 0.28125, 0.28125, 0.28125, 0.34375, 0.34375, 0.40625, 0.46875, 0.46875, 0.40625, 0.40625, 0.46875, 0.46875, 0.40625, 0.34375, 0.34375, 0.28125, 0.28125, 0.21875, 0.15625, 0.15625, 0.21875, 0.21875, 0.21875, 0.15625, 0.15625, 0.09375, 0.09375, 0.03125, 0.03125, 0.03125, 0.09375, 0.09375, 0.03125, 0.03125, 0.03125, 0.09375, 0.09375, 0.15625, 0.21875, 0.21875, 0.15625, 0.15625, 0.21875, 0.21875, 0.15625, 0.09375, 0.09375, 0.03125, 0.03125, 0.03125, 0.09375, 0.09375, 0.03125, 0.03125, 0.03125, 0.09375, 0.09375, 0.15625, 0.15625, 0.21875, 0.21875, 0.21875, 0.15625, 0.15625, 0.21875, 0.28125, 0.34375, 0.34375, 0.28125, 0.28125, 0.28125, 0.34375, 0.34375, 0.40625, 0.40625, 0.46875, 0.46875, 0.46875, 0.40625, 0.40625, 0.46875, 0.46875, 0.46875, 0.40625, 0.40625, 0.34375, 0.28125, 0.28125, 0.34375, 0.34375, 0.28125, 0.28125, 0.34375, 0.40625, 0.40625, 0.46875, 0.46875, 0.53125, 0.53125, 0.59375, 0.59375, 0.65625, 0.71875, 0.71875, 0.65625, 0.65625, 0.71875, 0.71875, 0.65625, 0.59375, 0.59375, 0.53125, 0.53125, 0.53125, 0.59375, 0.59375, 0.53125, 0.53125, 0.53125, 0.59375, 0.59375, 0.65625, 0.65625, 0.71875, 0.71875, 0.71875, 0.65625, 0.65625, 0.71875, 0.78125, 0.84375, 0.84375, 0.78125, 0.78125, 0.78125, 0.84375, 0.84375, 0.90625, 0.90625, 0.96875, 0.96875, 0.96875, 0.90625, 0.90625, 0.96875, 0.96875, 0.96875, 0.90625, 0.90625, 0.84375, 0.78125, 0.78125, 0.84375, 0.84375, 0.78125, 0.78125, 0.84375, 0.90625, 0.90625, 0.96875, 0.96875, 0.96875, 0.90625, 0.90625, 0.96875, 0.96875, 0.96875, 0.90625, 0.90625, 0.84375, 0.84375, 0.78125, 0.78125, 0.78125, 0.84375, 0.84375, 0.78125, 0.71875, 0.71875, 0.65625, 0.65625, 0.59375, 0.53125, 0.53125, 0.59375, 0.59375, 0.53125, 0.53125, 0.59375, 0.65625, 0.65625, 0.71875, 0.71875, 0.71875, 0.71875, 0.65625, 0.65625, 0.59375, 0.53125, 0.53125, 0.59375, 0.59375, 0.53125, 0.53125, 0.59375, 0.65625, 0.65625, 0.71875, 0.71875, 0.78125, 0.84375, 0.84375, 0.78125, 0.78125, 0.78125, 0.84375, 0.84375, 0.90625, 0.90625, 0.96875, 0.96875, 0.96875, 0.90625, 0.90625, 0.96875], \"y\": [0.03125, 0.03125, 0.09375, 0.09375, 0.15625, 0.21875, 0.21875, 0.15625, 0.15625, 0.21875, 0.21875, 0.15625, 0.09375, 0.09375, 0.03125, 0.03125, 0.03125, 0.09375, 0.09375, 0.03125, 0.03125, 0.03125, 0.09375, 0.09375, 0.15625, 0.15625, 0.21875, 0.21875, 0.21875, 0.15625, 0.15625, 0.21875, 0.28125, 0.34375, 0.34375, 0.28125, 0.28125, 0.28125, 0.34375, 0.34375, 0.40625, 0.40625, 0.46875, 0.46875, 0.46875, 0.40625, 0.40625, 0.46875, 0.46875, 0.46875, 0.40625, 0.40625, 0.34375, 0.28125, 0.28125, 0.34375, 0.34375, 0.28125, 0.28125, 0.34375, 0.40625, 0.40625, 0.46875, 0.46875, 0.53125, 0.59375, 0.59375, 0.53125, 0.53125, 0.53125, 0.59375, 0.59375, 0.65625, 0.65625, 0.71875, 0.71875, 0.71875, 0.65625, 0.65625, 0.71875, 0.78125, 0.78125, 0.84375, 0.84375, 0.90625, 0.96875, 0.96875, 0.90625, 0.90625, 0.96875, 0.96875, 0.90625, 0.84375, 0.84375, 0.78125, 0.78125, 0.78125, 0.78125, 0.84375, 0.84375, 0.90625, 0.96875, 0.96875, 0.90625, 0.90625, 0.96875, 0.96875, 0.90625, 0.84375, 0.84375, 0.78125, 0.78125, 0.71875, 0.65625, 0.65625, 0.71875, 0.71875, 0.71875, 0.65625, 0.65625, 0.59375, 0.59375, 0.53125, 0.53125, 0.53125, 0.59375, 0.59375, 0.53125, 0.53125, 0.59375, 0.59375, 0.53125, 0.53125, 0.53125, 0.59375, 0.59375, 0.65625, 0.65625, 0.71875, 0.71875, 0.71875, 0.65625, 0.65625, 0.71875, 0.78125, 0.78125, 0.84375, 0.84375, 0.90625, 0.96875, 0.96875, 0.90625, 0.90625, 0.96875, 0.96875, 0.90625, 0.84375, 0.84375, 0.78125, 0.78125, 0.78125, 0.78125, 0.84375, 0.84375, 0.90625, 0.96875, 0.96875, 0.90625, 0.90625, 0.96875, 0.96875, 0.90625, 0.84375, 0.84375, 0.78125, 0.78125, 0.71875, 0.65625, 0.65625, 0.71875, 0.71875, 0.71875, 0.65625, 0.65625, 0.59375, 0.59375, 0.53125, 0.53125, 0.53125, 0.59375, 0.59375, 0.53125, 0.46875, 0.46875, 0.40625, 0.40625, 0.34375, 0.28125, 0.28125, 0.34375, 0.34375, 0.28125, 0.28125, 0.34375, 0.40625, 0.40625, 0.46875, 0.46875, 0.46875, 0.40625, 0.40625, 0.46875, 0.46875, 0.46875, 0.40625, 0.40625, 0.34375, 0.34375, 0.28125, 0.28125, 0.28125, 0.34375, 0.34375, 0.28125, 0.21875, 0.15625, 0.15625, 0.21875, 0.21875, 0.21875, 0.15625, 0.15625, 0.09375, 0.09375, 0.03125, 0.03125, 0.03125, 0.09375, 0.09375, 0.03125, 0.03125, 0.03125, 0.09375, 0.09375, 0.15625, 0.21875, 0.21875, 0.15625, 0.15625, 0.21875, 0.21875, 0.15625, 0.09375, 0.09375, 0.03125, 0.03125]}, {\"marker\": {\"color\": \"#e377c2\", \"size\": 10}, \"mode\": \"markers\", \"name\": \"point\", \"type\": \"scatter\", \"x\": [0.78125], \"y\": [0.34375]}],\n",
       "                        {\"plot_bgcolor\": \"white\", \"template\": {\"data\": {\"bar\": [{\"error_x\": {\"color\": \"#2a3f5f\"}, \"error_y\": {\"color\": \"#2a3f5f\"}, \"marker\": {\"line\": {\"color\": \"#E5ECF6\", \"width\": 0.5}}, \"type\": \"bar\"}], \"barpolar\": [{\"marker\": {\"line\": {\"color\": \"#E5ECF6\", \"width\": 0.5}}, \"type\": \"barpolar\"}], \"carpet\": [{\"aaxis\": {\"endlinecolor\": \"#2a3f5f\", \"gridcolor\": \"white\", \"linecolor\": \"white\", \"minorgridcolor\": \"white\", \"startlinecolor\": \"#2a3f5f\"}, \"baxis\": {\"endlinecolor\": \"#2a3f5f\", \"gridcolor\": \"white\", \"linecolor\": \"white\", \"minorgridcolor\": \"white\", \"startlinecolor\": \"#2a3f5f\"}, \"type\": \"carpet\"}], \"choropleth\": [{\"colorbar\": {\"outlinewidth\": 0, \"ticks\": \"\"}, \"type\": \"choropleth\"}], \"contour\": [{\"colorbar\": {\"outlinewidth\": 0, \"ticks\": \"\"}, \"colorscale\": [[0.0, \"#0d0887\"], [0.1111111111111111, \"#46039f\"], [0.2222222222222222, \"#7201a8\"], [0.3333333333333333, \"#9c179e\"], [0.4444444444444444, \"#bd3786\"], [0.5555555555555556, \"#d8576b\"], [0.6666666666666666, \"#ed7953\"], [0.7777777777777778, \"#fb9f3a\"], [0.8888888888888888, \"#fdca26\"], [1.0, \"#f0f921\"]], \"type\": \"contour\"}], \"contourcarpet\": [{\"colorbar\": {\"outlinewidth\": 0, \"ticks\": \"\"}, \"type\": \"contourcarpet\"}], \"heatmap\": [{\"colorbar\": {\"outlinewidth\": 0, \"ticks\": \"\"}, \"colorscale\": [[0.0, \"#0d0887\"], [0.1111111111111111, \"#46039f\"], [0.2222222222222222, \"#7201a8\"], [0.3333333333333333, \"#9c179e\"], [0.4444444444444444, \"#bd3786\"], [0.5555555555555556, \"#d8576b\"], [0.6666666666666666, \"#ed7953\"], [0.7777777777777778, \"#fb9f3a\"], [0.8888888888888888, \"#fdca26\"], [1.0, \"#f0f921\"]], \"type\": \"heatmap\"}], \"heatmapgl\": [{\"colorbar\": {\"outlinewidth\": 0, \"ticks\": \"\"}, \"colorscale\": [[0.0, \"#0d0887\"], [0.1111111111111111, \"#46039f\"], [0.2222222222222222, \"#7201a8\"], [0.3333333333333333, \"#9c179e\"], [0.4444444444444444, \"#bd3786\"], [0.5555555555555556, \"#d8576b\"], [0.6666666666666666, \"#ed7953\"], [0.7777777777777778, \"#fb9f3a\"], [0.8888888888888888, \"#fdca26\"], [1.0, \"#f0f921\"]], \"type\": \"heatmapgl\"}], \"histogram\": [{\"marker\": {\"colorbar\": {\"outlinewidth\": 0, \"ticks\": \"\"}}, \"type\": \"histogram\"}], \"histogram2d\": [{\"colorbar\": {\"outlinewidth\": 0, \"ticks\": \"\"}, \"colorscale\": [[0.0, \"#0d0887\"], [0.1111111111111111, \"#46039f\"], [0.2222222222222222, \"#7201a8\"], [0.3333333333333333, \"#9c179e\"], [0.4444444444444444, \"#bd3786\"], [0.5555555555555556, \"#d8576b\"], [0.6666666666666666, \"#ed7953\"], [0.7777777777777778, \"#fb9f3a\"], [0.8888888888888888, \"#fdca26\"], [1.0, \"#f0f921\"]], \"type\": \"histogram2d\"}], \"histogram2dcontour\": [{\"colorbar\": {\"outlinewidth\": 0, \"ticks\": \"\"}, \"colorscale\": [[0.0, \"#0d0887\"], [0.1111111111111111, \"#46039f\"], [0.2222222222222222, \"#7201a8\"], [0.3333333333333333, \"#9c179e\"], [0.4444444444444444, \"#bd3786\"], [0.5555555555555556, \"#d8576b\"], [0.6666666666666666, \"#ed7953\"], [0.7777777777777778, \"#fb9f3a\"], [0.8888888888888888, \"#fdca26\"], [1.0, \"#f0f921\"]], \"type\": \"histogram2dcontour\"}], \"mesh3d\": [{\"colorbar\": {\"outlinewidth\": 0, \"ticks\": \"\"}, \"type\": \"mesh3d\"}], \"parcoords\": [{\"line\": {\"colorbar\": {\"outlinewidth\": 0, \"ticks\": \"\"}}, \"type\": \"parcoords\"}], \"pie\": [{\"automargin\": true, \"type\": \"pie\"}], \"scatter\": [{\"marker\": {\"colorbar\": {\"outlinewidth\": 0, \"ticks\": \"\"}}, \"type\": \"scatter\"}], \"scatter3d\": [{\"line\": {\"colorbar\": {\"outlinewidth\": 0, \"ticks\": \"\"}}, \"marker\": {\"colorbar\": {\"outlinewidth\": 0, \"ticks\": \"\"}}, \"type\": \"scatter3d\"}], \"scattercarpet\": [{\"marker\": {\"colorbar\": {\"outlinewidth\": 0, \"ticks\": \"\"}}, \"type\": \"scattercarpet\"}], \"scattergeo\": [{\"marker\": {\"colorbar\": {\"outlinewidth\": 0, \"ticks\": \"\"}}, \"type\": \"scattergeo\"}], \"scattergl\": [{\"marker\": {\"colorbar\": {\"outlinewidth\": 0, \"ticks\": \"\"}}, \"type\": \"scattergl\"}], \"scattermapbox\": [{\"marker\": {\"colorbar\": {\"outlinewidth\": 0, \"ticks\": \"\"}}, \"type\": \"scattermapbox\"}], \"scatterpolar\": [{\"marker\": {\"colorbar\": {\"outlinewidth\": 0, \"ticks\": \"\"}}, \"type\": \"scatterpolar\"}], \"scatterpolargl\": [{\"marker\": {\"colorbar\": {\"outlinewidth\": 0, \"ticks\": \"\"}}, \"type\": \"scatterpolargl\"}], \"scatterternary\": [{\"marker\": {\"colorbar\": {\"outlinewidth\": 0, \"ticks\": \"\"}}, \"type\": \"scatterternary\"}], \"surface\": [{\"colorbar\": {\"outlinewidth\": 0, \"ticks\": \"\"}, \"colorscale\": [[0.0, \"#0d0887\"], [0.1111111111111111, \"#46039f\"], [0.2222222222222222, \"#7201a8\"], [0.3333333333333333, \"#9c179e\"], [0.4444444444444444, \"#bd3786\"], [0.5555555555555556, \"#d8576b\"], [0.6666666666666666, \"#ed7953\"], [0.7777777777777778, \"#fb9f3a\"], [0.8888888888888888, \"#fdca26\"], [1.0, \"#f0f921\"]], \"type\": \"surface\"}], \"table\": [{\"cells\": {\"fill\": {\"color\": \"#EBF0F8\"}, \"line\": {\"color\": \"white\"}}, \"header\": {\"fill\": {\"color\": \"#C8D4E3\"}, \"line\": {\"color\": \"white\"}}, \"type\": \"table\"}]}, \"layout\": {\"annotationdefaults\": {\"arrowcolor\": \"#2a3f5f\", \"arrowhead\": 0, \"arrowwidth\": 1}, \"coloraxis\": {\"colorbar\": {\"outlinewidth\": 0, \"ticks\": \"\"}}, \"colorscale\": {\"diverging\": [[0, \"#8e0152\"], [0.1, \"#c51b7d\"], [0.2, \"#de77ae\"], [0.3, \"#f1b6da\"], [0.4, \"#fde0ef\"], [0.5, \"#f7f7f7\"], [0.6, \"#e6f5d0\"], [0.7, \"#b8e186\"], [0.8, \"#7fbc41\"], [0.9, \"#4d9221\"], [1, \"#276419\"]], \"sequential\": [[0.0, \"#0d0887\"], [0.1111111111111111, \"#46039f\"], [0.2222222222222222, \"#7201a8\"], [0.3333333333333333, \"#9c179e\"], [0.4444444444444444, \"#bd3786\"], [0.5555555555555556, \"#d8576b\"], [0.6666666666666666, \"#ed7953\"], [0.7777777777777778, \"#fb9f3a\"], [0.8888888888888888, \"#fdca26\"], [1.0, \"#f0f921\"]], \"sequentialminus\": [[0.0, \"#0d0887\"], [0.1111111111111111, \"#46039f\"], [0.2222222222222222, \"#7201a8\"], [0.3333333333333333, \"#9c179e\"], [0.4444444444444444, \"#bd3786\"], [0.5555555555555556, \"#d8576b\"], [0.6666666666666666, \"#ed7953\"], [0.7777777777777778, \"#fb9f3a\"], [0.8888888888888888, \"#fdca26\"], [1.0, \"#f0f921\"]]}, \"colorway\": [\"#636efa\", \"#EF553B\", \"#00cc96\", \"#ab63fa\", \"#FFA15A\", \"#19d3f3\", \"#FF6692\", \"#B6E880\", \"#FF97FF\", \"#FECB52\"], \"font\": {\"color\": \"#2a3f5f\"}, \"geo\": {\"bgcolor\": \"white\", \"lakecolor\": \"white\", \"landcolor\": \"#E5ECF6\", \"showlakes\": true, \"showland\": true, \"subunitcolor\": \"white\"}, \"hoverlabel\": {\"align\": \"left\"}, \"hovermode\": \"closest\", \"mapbox\": {\"style\": \"light\"}, \"paper_bgcolor\": \"white\", \"plot_bgcolor\": \"#E5ECF6\", \"polar\": {\"angularaxis\": {\"gridcolor\": \"white\", \"linecolor\": \"white\", \"ticks\": \"\"}, \"bgcolor\": \"#E5ECF6\", \"radialaxis\": {\"gridcolor\": \"white\", \"linecolor\": \"white\", \"ticks\": \"\"}}, \"scene\": {\"xaxis\": {\"backgroundcolor\": \"#E5ECF6\", \"gridcolor\": \"white\", \"gridwidth\": 2, \"linecolor\": \"white\", \"showbackground\": true, \"ticks\": \"\", \"zerolinecolor\": \"white\"}, \"yaxis\": {\"backgroundcolor\": \"#E5ECF6\", \"gridcolor\": \"white\", \"gridwidth\": 2, \"linecolor\": \"white\", \"showbackground\": true, \"ticks\": \"\", \"zerolinecolor\": \"white\"}, \"zaxis\": {\"backgroundcolor\": \"#E5ECF6\", \"gridcolor\": \"white\", \"gridwidth\": 2, \"linecolor\": \"white\", \"showbackground\": true, \"ticks\": \"\", \"zerolinecolor\": \"white\"}}, \"shapedefaults\": {\"line\": {\"color\": \"#2a3f5f\"}}, \"ternary\": {\"aaxis\": {\"gridcolor\": \"white\", \"linecolor\": \"white\", \"ticks\": \"\"}, \"baxis\": {\"gridcolor\": \"white\", \"linecolor\": \"white\", \"ticks\": \"\"}, \"bgcolor\": \"#E5ECF6\", \"caxis\": {\"gridcolor\": \"white\", \"linecolor\": \"white\", \"ticks\": \"\"}}, \"title\": {\"x\": 0.05}, \"xaxis\": {\"automargin\": true, \"gridcolor\": \"white\", \"linecolor\": \"white\", \"ticks\": \"\", \"title\": {\"standoff\": 15}, \"zerolinecolor\": \"white\", \"zerolinewidth\": 2}, \"yaxis\": {\"automargin\": true, \"gridcolor\": \"white\", \"linecolor\": \"white\", \"ticks\": \"\", \"title\": {\"standoff\": 15}, \"zerolinecolor\": \"white\", \"zerolinewidth\": 2}}}, \"xaxis\": {\"constrain\": \"domain\", \"range\": [0, 1]}, \"yaxis\": {\"scaleanchor\": \"x\", \"scaleratio\": 1}},\n",
       "                        {\"responsive\": true}\n",
       "                    ).then(function(){\n",
       "                            \n",
       "var gd = document.getElementById('ff9b598f-e4cf-4e62-9dcf-98d3de6b9074');\n",
       "var x = new MutationObserver(function (mutations, observer) {{\n",
       "        var display = window.getComputedStyle(gd).display;\n",
       "        if (!display || display === 'none') {{\n",
       "            console.log([gd, 'removed!']);\n",
       "            Plotly.purge(gd);\n",
       "            observer.disconnect();\n",
       "        }}\n",
       "}});\n",
       "\n",
       "// Listen for the removal of the full notebook cells\n",
       "var notebookContainer = gd.closest('#notebook-container');\n",
       "if (notebookContainer) {{\n",
       "    x.observe(notebookContainer, {childList: true});\n",
       "}}\n",
       "\n",
       "// Listen for the clearing of the current output cell\n",
       "var outputEl = gd.closest('.output');\n",
       "if (outputEl) {{\n",
       "    x.observe(outputEl, {childList: true});\n",
       "}}\n",
       "\n",
       "                        })\n",
       "                };\n",
       "                });\n",
       "            </script>\n",
       "        </div>"
      ]
     },
     "metadata": {},
     "output_type": "display_data"
    }
   ],
   "source": [
    "fig = go.Figure()\n",
    "\n",
    "fig.add_trace(go.Scatter(x = x_vals,\n",
    "                         y = y_vals,\n",
    "                         name='hilbert-curve-order2',\n",
    "                         mode='lines+markers',\n",
    "                         marker=dict(\n",
    "                             size=5,\n",
    "                             color=x_vals,\n",
    "                             colorscale='Viridis'),\n",
    "                        line=dict(\n",
    "                            color='#677193',\n",
    "                            width=2)))\n",
    "\n",
    "fig.add_trace(go.Scatter(x = [(h_x*2+1)/(2**(order+1))],\n",
    "                         y = [(h_y*2+1)/(2**(order+1))],\n",
    "                         name='point',\n",
    "                         mode='markers',\n",
    "                         marker=dict(\n",
    "                               size=10,\n",
    "                               color='#e377c2')))\n",
    "\n",
    "fig.layout.plot_bgcolor = 'white'\n",
    "\n",
    "fig.update_layout(\n",
    "    yaxis = dict(\n",
    "      scaleanchor = \"x\",\n",
    "      scaleratio = 1,\n",
    "    ),\n",
    "    xaxis = dict(\n",
    "        range=(0, 1),\n",
    "        constrain='domain'\n",
    "    )\n",
    ")\n",
    "fig.show()"
   ]
  },
  {
   "cell_type": "code",
   "execution_count": 169,
   "metadata": {},
   "outputs": [
    {
     "data": {
      "application/vnd.plotly.v1+json": {
       "config": {
        "plotlyServerURL": "https://plot.ly"
       },
       "data": [
        {
         "mode": "lines+markers",
         "name": "hilbert-curve-3d",
         "type": "scatter3d",
         "x": [
          0,
          0,
          0,
          0,
          1,
          1,
          1,
          1
         ],
         "y": [
          0,
          1,
          1,
          0,
          0,
          1,
          1,
          0
         ],
         "z": [
          0,
          0,
          1,
          1,
          1,
          1,
          0,
          0
         ]
        }
       ],
       "layout": {
        "autosize": true,
        "scene": {
         "aspectmode": "auto",
         "aspectratio": {
          "x": 1,
          "y": 1,
          "z": 1
         },
         "camera": {
          "center": {
           "x": 0,
           "y": 0,
           "z": 0
          },
          "eye": {
           "x": 1.0085774009060822,
           "y": 1.008577400906082,
           "z": 1.0085774009060817
          },
          "projection": {
           "type": "perspective"
          },
          "up": {
           "x": 0.0014567557091233235,
           "y": -0.001454636654381876,
           "z": 0.9999978809452587
          }
         }
        },
        "template": {
         "data": {
          "bar": [
           {
            "error_x": {
             "color": "#2a3f5f"
            },
            "error_y": {
             "color": "#2a3f5f"
            },
            "marker": {
             "line": {
              "color": "#E5ECF6",
              "width": 0.5
             }
            },
            "type": "bar"
           }
          ],
          "barpolar": [
           {
            "marker": {
             "line": {
              "color": "#E5ECF6",
              "width": 0.5
             }
            },
            "type": "barpolar"
           }
          ],
          "carpet": [
           {
            "aaxis": {
             "endlinecolor": "#2a3f5f",
             "gridcolor": "white",
             "linecolor": "white",
             "minorgridcolor": "white",
             "startlinecolor": "#2a3f5f"
            },
            "baxis": {
             "endlinecolor": "#2a3f5f",
             "gridcolor": "white",
             "linecolor": "white",
             "minorgridcolor": "white",
             "startlinecolor": "#2a3f5f"
            },
            "type": "carpet"
           }
          ],
          "choropleth": [
           {
            "colorbar": {
             "outlinewidth": 0,
             "ticks": ""
            },
            "type": "choropleth"
           }
          ],
          "contour": [
           {
            "colorbar": {
             "outlinewidth": 0,
             "ticks": ""
            },
            "colorscale": [
             [
              0,
              "#0d0887"
             ],
             [
              0.1111111111111111,
              "#46039f"
             ],
             [
              0.2222222222222222,
              "#7201a8"
             ],
             [
              0.3333333333333333,
              "#9c179e"
             ],
             [
              0.4444444444444444,
              "#bd3786"
             ],
             [
              0.5555555555555556,
              "#d8576b"
             ],
             [
              0.6666666666666666,
              "#ed7953"
             ],
             [
              0.7777777777777778,
              "#fb9f3a"
             ],
             [
              0.8888888888888888,
              "#fdca26"
             ],
             [
              1,
              "#f0f921"
             ]
            ],
            "type": "contour"
           }
          ],
          "contourcarpet": [
           {
            "colorbar": {
             "outlinewidth": 0,
             "ticks": ""
            },
            "type": "contourcarpet"
           }
          ],
          "heatmap": [
           {
            "colorbar": {
             "outlinewidth": 0,
             "ticks": ""
            },
            "colorscale": [
             [
              0,
              "#0d0887"
             ],
             [
              0.1111111111111111,
              "#46039f"
             ],
             [
              0.2222222222222222,
              "#7201a8"
             ],
             [
              0.3333333333333333,
              "#9c179e"
             ],
             [
              0.4444444444444444,
              "#bd3786"
             ],
             [
              0.5555555555555556,
              "#d8576b"
             ],
             [
              0.6666666666666666,
              "#ed7953"
             ],
             [
              0.7777777777777778,
              "#fb9f3a"
             ],
             [
              0.8888888888888888,
              "#fdca26"
             ],
             [
              1,
              "#f0f921"
             ]
            ],
            "type": "heatmap"
           }
          ],
          "heatmapgl": [
           {
            "colorbar": {
             "outlinewidth": 0,
             "ticks": ""
            },
            "colorscale": [
             [
              0,
              "#0d0887"
             ],
             [
              0.1111111111111111,
              "#46039f"
             ],
             [
              0.2222222222222222,
              "#7201a8"
             ],
             [
              0.3333333333333333,
              "#9c179e"
             ],
             [
              0.4444444444444444,
              "#bd3786"
             ],
             [
              0.5555555555555556,
              "#d8576b"
             ],
             [
              0.6666666666666666,
              "#ed7953"
             ],
             [
              0.7777777777777778,
              "#fb9f3a"
             ],
             [
              0.8888888888888888,
              "#fdca26"
             ],
             [
              1,
              "#f0f921"
             ]
            ],
            "type": "heatmapgl"
           }
          ],
          "histogram": [
           {
            "marker": {
             "colorbar": {
              "outlinewidth": 0,
              "ticks": ""
             }
            },
            "type": "histogram"
           }
          ],
          "histogram2d": [
           {
            "colorbar": {
             "outlinewidth": 0,
             "ticks": ""
            },
            "colorscale": [
             [
              0,
              "#0d0887"
             ],
             [
              0.1111111111111111,
              "#46039f"
             ],
             [
              0.2222222222222222,
              "#7201a8"
             ],
             [
              0.3333333333333333,
              "#9c179e"
             ],
             [
              0.4444444444444444,
              "#bd3786"
             ],
             [
              0.5555555555555556,
              "#d8576b"
             ],
             [
              0.6666666666666666,
              "#ed7953"
             ],
             [
              0.7777777777777778,
              "#fb9f3a"
             ],
             [
              0.8888888888888888,
              "#fdca26"
             ],
             [
              1,
              "#f0f921"
             ]
            ],
            "type": "histogram2d"
           }
          ],
          "histogram2dcontour": [
           {
            "colorbar": {
             "outlinewidth": 0,
             "ticks": ""
            },
            "colorscale": [
             [
              0,
              "#0d0887"
             ],
             [
              0.1111111111111111,
              "#46039f"
             ],
             [
              0.2222222222222222,
              "#7201a8"
             ],
             [
              0.3333333333333333,
              "#9c179e"
             ],
             [
              0.4444444444444444,
              "#bd3786"
             ],
             [
              0.5555555555555556,
              "#d8576b"
             ],
             [
              0.6666666666666666,
              "#ed7953"
             ],
             [
              0.7777777777777778,
              "#fb9f3a"
             ],
             [
              0.8888888888888888,
              "#fdca26"
             ],
             [
              1,
              "#f0f921"
             ]
            ],
            "type": "histogram2dcontour"
           }
          ],
          "mesh3d": [
           {
            "colorbar": {
             "outlinewidth": 0,
             "ticks": ""
            },
            "type": "mesh3d"
           }
          ],
          "parcoords": [
           {
            "line": {
             "colorbar": {
              "outlinewidth": 0,
              "ticks": ""
             }
            },
            "type": "parcoords"
           }
          ],
          "pie": [
           {
            "automargin": true,
            "type": "pie"
           }
          ],
          "scatter": [
           {
            "marker": {
             "colorbar": {
              "outlinewidth": 0,
              "ticks": ""
             }
            },
            "type": "scatter"
           }
          ],
          "scatter3d": [
           {
            "line": {
             "colorbar": {
              "outlinewidth": 0,
              "ticks": ""
             }
            },
            "marker": {
             "colorbar": {
              "outlinewidth": 0,
              "ticks": ""
             }
            },
            "type": "scatter3d"
           }
          ],
          "scattercarpet": [
           {
            "marker": {
             "colorbar": {
              "outlinewidth": 0,
              "ticks": ""
             }
            },
            "type": "scattercarpet"
           }
          ],
          "scattergeo": [
           {
            "marker": {
             "colorbar": {
              "outlinewidth": 0,
              "ticks": ""
             }
            },
            "type": "scattergeo"
           }
          ],
          "scattergl": [
           {
            "marker": {
             "colorbar": {
              "outlinewidth": 0,
              "ticks": ""
             }
            },
            "type": "scattergl"
           }
          ],
          "scattermapbox": [
           {
            "marker": {
             "colorbar": {
              "outlinewidth": 0,
              "ticks": ""
             }
            },
            "type": "scattermapbox"
           }
          ],
          "scatterpolar": [
           {
            "marker": {
             "colorbar": {
              "outlinewidth": 0,
              "ticks": ""
             }
            },
            "type": "scatterpolar"
           }
          ],
          "scatterpolargl": [
           {
            "marker": {
             "colorbar": {
              "outlinewidth": 0,
              "ticks": ""
             }
            },
            "type": "scatterpolargl"
           }
          ],
          "scatterternary": [
           {
            "marker": {
             "colorbar": {
              "outlinewidth": 0,
              "ticks": ""
             }
            },
            "type": "scatterternary"
           }
          ],
          "surface": [
           {
            "colorbar": {
             "outlinewidth": 0,
             "ticks": ""
            },
            "colorscale": [
             [
              0,
              "#0d0887"
             ],
             [
              0.1111111111111111,
              "#46039f"
             ],
             [
              0.2222222222222222,
              "#7201a8"
             ],
             [
              0.3333333333333333,
              "#9c179e"
             ],
             [
              0.4444444444444444,
              "#bd3786"
             ],
             [
              0.5555555555555556,
              "#d8576b"
             ],
             [
              0.6666666666666666,
              "#ed7953"
             ],
             [
              0.7777777777777778,
              "#fb9f3a"
             ],
             [
              0.8888888888888888,
              "#fdca26"
             ],
             [
              1,
              "#f0f921"
             ]
            ],
            "type": "surface"
           }
          ],
          "table": [
           {
            "cells": {
             "fill": {
              "color": "#EBF0F8"
             },
             "line": {
              "color": "white"
             }
            },
            "header": {
             "fill": {
              "color": "#C8D4E3"
             },
             "line": {
              "color": "white"
             }
            },
            "type": "table"
           }
          ]
         },
         "layout": {
          "annotationdefaults": {
           "arrowcolor": "#2a3f5f",
           "arrowhead": 0,
           "arrowwidth": 1
          },
          "coloraxis": {
           "colorbar": {
            "outlinewidth": 0,
            "ticks": ""
           }
          },
          "colorscale": {
           "diverging": [
            [
             0,
             "#8e0152"
            ],
            [
             0.1,
             "#c51b7d"
            ],
            [
             0.2,
             "#de77ae"
            ],
            [
             0.3,
             "#f1b6da"
            ],
            [
             0.4,
             "#fde0ef"
            ],
            [
             0.5,
             "#f7f7f7"
            ],
            [
             0.6,
             "#e6f5d0"
            ],
            [
             0.7,
             "#b8e186"
            ],
            [
             0.8,
             "#7fbc41"
            ],
            [
             0.9,
             "#4d9221"
            ],
            [
             1,
             "#276419"
            ]
           ],
           "sequential": [
            [
             0,
             "#0d0887"
            ],
            [
             0.1111111111111111,
             "#46039f"
            ],
            [
             0.2222222222222222,
             "#7201a8"
            ],
            [
             0.3333333333333333,
             "#9c179e"
            ],
            [
             0.4444444444444444,
             "#bd3786"
            ],
            [
             0.5555555555555556,
             "#d8576b"
            ],
            [
             0.6666666666666666,
             "#ed7953"
            ],
            [
             0.7777777777777778,
             "#fb9f3a"
            ],
            [
             0.8888888888888888,
             "#fdca26"
            ],
            [
             1,
             "#f0f921"
            ]
           ],
           "sequentialminus": [
            [
             0,
             "#0d0887"
            ],
            [
             0.1111111111111111,
             "#46039f"
            ],
            [
             0.2222222222222222,
             "#7201a8"
            ],
            [
             0.3333333333333333,
             "#9c179e"
            ],
            [
             0.4444444444444444,
             "#bd3786"
            ],
            [
             0.5555555555555556,
             "#d8576b"
            ],
            [
             0.6666666666666666,
             "#ed7953"
            ],
            [
             0.7777777777777778,
             "#fb9f3a"
            ],
            [
             0.8888888888888888,
             "#fdca26"
            ],
            [
             1,
             "#f0f921"
            ]
           ]
          },
          "colorway": [
           "#636efa",
           "#EF553B",
           "#00cc96",
           "#ab63fa",
           "#FFA15A",
           "#19d3f3",
           "#FF6692",
           "#B6E880",
           "#FF97FF",
           "#FECB52"
          ],
          "font": {
           "color": "#2a3f5f"
          },
          "geo": {
           "bgcolor": "white",
           "lakecolor": "white",
           "landcolor": "#E5ECF6",
           "showlakes": true,
           "showland": true,
           "subunitcolor": "white"
          },
          "hoverlabel": {
           "align": "left"
          },
          "hovermode": "closest",
          "mapbox": {
           "style": "light"
          },
          "paper_bgcolor": "white",
          "plot_bgcolor": "#E5ECF6",
          "polar": {
           "angularaxis": {
            "gridcolor": "white",
            "linecolor": "white",
            "ticks": ""
           },
           "bgcolor": "#E5ECF6",
           "radialaxis": {
            "gridcolor": "white",
            "linecolor": "white",
            "ticks": ""
           }
          },
          "scene": {
           "xaxis": {
            "backgroundcolor": "#E5ECF6",
            "gridcolor": "white",
            "gridwidth": 2,
            "linecolor": "white",
            "showbackground": true,
            "ticks": "",
            "zerolinecolor": "white"
           },
           "yaxis": {
            "backgroundcolor": "#E5ECF6",
            "gridcolor": "white",
            "gridwidth": 2,
            "linecolor": "white",
            "showbackground": true,
            "ticks": "",
            "zerolinecolor": "white"
           },
           "zaxis": {
            "backgroundcolor": "#E5ECF6",
            "gridcolor": "white",
            "gridwidth": 2,
            "linecolor": "white",
            "showbackground": true,
            "ticks": "",
            "zerolinecolor": "white"
           }
          },
          "shapedefaults": {
           "line": {
            "color": "#2a3f5f"
           }
          },
          "ternary": {
           "aaxis": {
            "gridcolor": "white",
            "linecolor": "white",
            "ticks": ""
           },
           "baxis": {
            "gridcolor": "white",
            "linecolor": "white",
            "ticks": ""
           },
           "bgcolor": "#E5ECF6",
           "caxis": {
            "gridcolor": "white",
            "linecolor": "white",
            "ticks": ""
           }
          },
          "title": {
           "x": 0.05
          },
          "xaxis": {
           "automargin": true,
           "gridcolor": "white",
           "linecolor": "white",
           "ticks": "",
           "title": {
            "standoff": 15
           },
           "zerolinecolor": "white",
           "zerolinewidth": 2
          },
          "yaxis": {
           "automargin": true,
           "gridcolor": "white",
           "linecolor": "white",
           "ticks": "",
           "title": {
            "standoff": 15
           },
           "zerolinecolor": "white",
           "zerolinewidth": 2
          }
         }
        },
        "xaxis": {
         "constrain": "domain",
         "range": [
          0,
          2
         ]
        },
        "yaxis": {
         "scaleanchor": "x",
         "scaleratio": 1
        }
       }
      },
      "text/html": [
       "<div>\n",
       "        \n",
       "        \n",
       "            <div id=\"f8c45d80-1515-44a0-afef-6a03eb047a07\" class=\"plotly-graph-div\" style=\"height:525px; width:100%;\"></div>\n",
       "            <script type=\"text/javascript\">\n",
       "                require([\"plotly\"], function(Plotly) {\n",
       "                    window.PLOTLYENV=window.PLOTLYENV || {};\n",
       "                    \n",
       "                if (document.getElementById(\"f8c45d80-1515-44a0-afef-6a03eb047a07\")) {\n",
       "                    Plotly.newPlot(\n",
       "                        'f8c45d80-1515-44a0-afef-6a03eb047a07',\n",
       "                        [{\"mode\": \"lines+markers\", \"name\": \"hilbert-curve-3d\", \"type\": \"scatter3d\", \"x\": [0, 0, 0, 0, 1, 1, 1, 1], \"y\": [0, 1, 1, 0, 0, 1, 1, 0], \"z\": [0, 0, 1, 1, 1, 1, 0, 0]}],\n",
       "                        {\"template\": {\"data\": {\"bar\": [{\"error_x\": {\"color\": \"#2a3f5f\"}, \"error_y\": {\"color\": \"#2a3f5f\"}, \"marker\": {\"line\": {\"color\": \"#E5ECF6\", \"width\": 0.5}}, \"type\": \"bar\"}], \"barpolar\": [{\"marker\": {\"line\": {\"color\": \"#E5ECF6\", \"width\": 0.5}}, \"type\": \"barpolar\"}], \"carpet\": [{\"aaxis\": {\"endlinecolor\": \"#2a3f5f\", \"gridcolor\": \"white\", \"linecolor\": \"white\", \"minorgridcolor\": \"white\", \"startlinecolor\": \"#2a3f5f\"}, \"baxis\": {\"endlinecolor\": \"#2a3f5f\", \"gridcolor\": \"white\", \"linecolor\": \"white\", \"minorgridcolor\": \"white\", \"startlinecolor\": \"#2a3f5f\"}, \"type\": \"carpet\"}], \"choropleth\": [{\"colorbar\": {\"outlinewidth\": 0, \"ticks\": \"\"}, \"type\": \"choropleth\"}], \"contour\": [{\"colorbar\": {\"outlinewidth\": 0, \"ticks\": \"\"}, \"colorscale\": [[0.0, \"#0d0887\"], [0.1111111111111111, \"#46039f\"], [0.2222222222222222, \"#7201a8\"], [0.3333333333333333, \"#9c179e\"], [0.4444444444444444, \"#bd3786\"], [0.5555555555555556, \"#d8576b\"], [0.6666666666666666, \"#ed7953\"], [0.7777777777777778, \"#fb9f3a\"], [0.8888888888888888, \"#fdca26\"], [1.0, \"#f0f921\"]], \"type\": \"contour\"}], \"contourcarpet\": [{\"colorbar\": {\"outlinewidth\": 0, \"ticks\": \"\"}, \"type\": \"contourcarpet\"}], \"heatmap\": [{\"colorbar\": {\"outlinewidth\": 0, \"ticks\": \"\"}, \"colorscale\": [[0.0, \"#0d0887\"], [0.1111111111111111, \"#46039f\"], [0.2222222222222222, \"#7201a8\"], [0.3333333333333333, \"#9c179e\"], [0.4444444444444444, \"#bd3786\"], [0.5555555555555556, \"#d8576b\"], [0.6666666666666666, \"#ed7953\"], [0.7777777777777778, \"#fb9f3a\"], [0.8888888888888888, \"#fdca26\"], [1.0, \"#f0f921\"]], \"type\": \"heatmap\"}], \"heatmapgl\": [{\"colorbar\": {\"outlinewidth\": 0, \"ticks\": \"\"}, \"colorscale\": [[0.0, \"#0d0887\"], [0.1111111111111111, \"#46039f\"], [0.2222222222222222, \"#7201a8\"], [0.3333333333333333, \"#9c179e\"], [0.4444444444444444, \"#bd3786\"], [0.5555555555555556, \"#d8576b\"], [0.6666666666666666, \"#ed7953\"], [0.7777777777777778, \"#fb9f3a\"], [0.8888888888888888, \"#fdca26\"], [1.0, \"#f0f921\"]], \"type\": \"heatmapgl\"}], \"histogram\": [{\"marker\": {\"colorbar\": {\"outlinewidth\": 0, \"ticks\": \"\"}}, \"type\": \"histogram\"}], \"histogram2d\": [{\"colorbar\": {\"outlinewidth\": 0, \"ticks\": \"\"}, \"colorscale\": [[0.0, \"#0d0887\"], [0.1111111111111111, \"#46039f\"], [0.2222222222222222, \"#7201a8\"], [0.3333333333333333, \"#9c179e\"], [0.4444444444444444, \"#bd3786\"], [0.5555555555555556, \"#d8576b\"], [0.6666666666666666, \"#ed7953\"], [0.7777777777777778, \"#fb9f3a\"], [0.8888888888888888, \"#fdca26\"], [1.0, \"#f0f921\"]], \"type\": \"histogram2d\"}], \"histogram2dcontour\": [{\"colorbar\": {\"outlinewidth\": 0, \"ticks\": \"\"}, \"colorscale\": [[0.0, \"#0d0887\"], [0.1111111111111111, \"#46039f\"], [0.2222222222222222, \"#7201a8\"], [0.3333333333333333, \"#9c179e\"], [0.4444444444444444, \"#bd3786\"], [0.5555555555555556, \"#d8576b\"], [0.6666666666666666, \"#ed7953\"], [0.7777777777777778, \"#fb9f3a\"], [0.8888888888888888, \"#fdca26\"], [1.0, \"#f0f921\"]], \"type\": \"histogram2dcontour\"}], \"mesh3d\": [{\"colorbar\": {\"outlinewidth\": 0, \"ticks\": \"\"}, \"type\": \"mesh3d\"}], \"parcoords\": [{\"line\": {\"colorbar\": {\"outlinewidth\": 0, \"ticks\": \"\"}}, \"type\": \"parcoords\"}], \"pie\": [{\"automargin\": true, \"type\": \"pie\"}], \"scatter\": [{\"marker\": {\"colorbar\": {\"outlinewidth\": 0, \"ticks\": \"\"}}, \"type\": \"scatter\"}], \"scatter3d\": [{\"line\": {\"colorbar\": {\"outlinewidth\": 0, \"ticks\": \"\"}}, \"marker\": {\"colorbar\": {\"outlinewidth\": 0, \"ticks\": \"\"}}, \"type\": \"scatter3d\"}], \"scattercarpet\": [{\"marker\": {\"colorbar\": {\"outlinewidth\": 0, \"ticks\": \"\"}}, \"type\": \"scattercarpet\"}], \"scattergeo\": [{\"marker\": {\"colorbar\": {\"outlinewidth\": 0, \"ticks\": \"\"}}, \"type\": \"scattergeo\"}], \"scattergl\": [{\"marker\": {\"colorbar\": {\"outlinewidth\": 0, \"ticks\": \"\"}}, \"type\": \"scattergl\"}], \"scattermapbox\": [{\"marker\": {\"colorbar\": {\"outlinewidth\": 0, \"ticks\": \"\"}}, \"type\": \"scattermapbox\"}], \"scatterpolar\": [{\"marker\": {\"colorbar\": {\"outlinewidth\": 0, \"ticks\": \"\"}}, \"type\": \"scatterpolar\"}], \"scatterpolargl\": [{\"marker\": {\"colorbar\": {\"outlinewidth\": 0, \"ticks\": \"\"}}, \"type\": \"scatterpolargl\"}], \"scatterternary\": [{\"marker\": {\"colorbar\": {\"outlinewidth\": 0, \"ticks\": \"\"}}, \"type\": \"scatterternary\"}], \"surface\": [{\"colorbar\": {\"outlinewidth\": 0, \"ticks\": \"\"}, \"colorscale\": [[0.0, \"#0d0887\"], [0.1111111111111111, \"#46039f\"], [0.2222222222222222, \"#7201a8\"], [0.3333333333333333, \"#9c179e\"], [0.4444444444444444, \"#bd3786\"], [0.5555555555555556, \"#d8576b\"], [0.6666666666666666, \"#ed7953\"], [0.7777777777777778, \"#fb9f3a\"], [0.8888888888888888, \"#fdca26\"], [1.0, \"#f0f921\"]], \"type\": \"surface\"}], \"table\": [{\"cells\": {\"fill\": {\"color\": \"#EBF0F8\"}, \"line\": {\"color\": \"white\"}}, \"header\": {\"fill\": {\"color\": \"#C8D4E3\"}, \"line\": {\"color\": \"white\"}}, \"type\": \"table\"}]}, \"layout\": {\"annotationdefaults\": {\"arrowcolor\": \"#2a3f5f\", \"arrowhead\": 0, \"arrowwidth\": 1}, \"coloraxis\": {\"colorbar\": {\"outlinewidth\": 0, \"ticks\": \"\"}}, \"colorscale\": {\"diverging\": [[0, \"#8e0152\"], [0.1, \"#c51b7d\"], [0.2, \"#de77ae\"], [0.3, \"#f1b6da\"], [0.4, \"#fde0ef\"], [0.5, \"#f7f7f7\"], [0.6, \"#e6f5d0\"], [0.7, \"#b8e186\"], [0.8, \"#7fbc41\"], [0.9, \"#4d9221\"], [1, \"#276419\"]], \"sequential\": [[0.0, \"#0d0887\"], [0.1111111111111111, \"#46039f\"], [0.2222222222222222, \"#7201a8\"], [0.3333333333333333, \"#9c179e\"], [0.4444444444444444, \"#bd3786\"], [0.5555555555555556, \"#d8576b\"], [0.6666666666666666, \"#ed7953\"], [0.7777777777777778, \"#fb9f3a\"], [0.8888888888888888, \"#fdca26\"], [1.0, \"#f0f921\"]], \"sequentialminus\": [[0.0, \"#0d0887\"], [0.1111111111111111, \"#46039f\"], [0.2222222222222222, \"#7201a8\"], [0.3333333333333333, \"#9c179e\"], [0.4444444444444444, \"#bd3786\"], [0.5555555555555556, \"#d8576b\"], [0.6666666666666666, \"#ed7953\"], [0.7777777777777778, \"#fb9f3a\"], [0.8888888888888888, \"#fdca26\"], [1.0, \"#f0f921\"]]}, \"colorway\": [\"#636efa\", \"#EF553B\", \"#00cc96\", \"#ab63fa\", \"#FFA15A\", \"#19d3f3\", \"#FF6692\", \"#B6E880\", \"#FF97FF\", \"#FECB52\"], \"font\": {\"color\": \"#2a3f5f\"}, \"geo\": {\"bgcolor\": \"white\", \"lakecolor\": \"white\", \"landcolor\": \"#E5ECF6\", \"showlakes\": true, \"showland\": true, \"subunitcolor\": \"white\"}, \"hoverlabel\": {\"align\": \"left\"}, \"hovermode\": \"closest\", \"mapbox\": {\"style\": \"light\"}, \"paper_bgcolor\": \"white\", \"plot_bgcolor\": \"#E5ECF6\", \"polar\": {\"angularaxis\": {\"gridcolor\": \"white\", \"linecolor\": \"white\", \"ticks\": \"\"}, \"bgcolor\": \"#E5ECF6\", \"radialaxis\": {\"gridcolor\": \"white\", \"linecolor\": \"white\", \"ticks\": \"\"}}, \"scene\": {\"xaxis\": {\"backgroundcolor\": \"#E5ECF6\", \"gridcolor\": \"white\", \"gridwidth\": 2, \"linecolor\": \"white\", \"showbackground\": true, \"ticks\": \"\", \"zerolinecolor\": \"white\"}, \"yaxis\": {\"backgroundcolor\": \"#E5ECF6\", \"gridcolor\": \"white\", \"gridwidth\": 2, \"linecolor\": \"white\", \"showbackground\": true, \"ticks\": \"\", \"zerolinecolor\": \"white\"}, \"zaxis\": {\"backgroundcolor\": \"#E5ECF6\", \"gridcolor\": \"white\", \"gridwidth\": 2, \"linecolor\": \"white\", \"showbackground\": true, \"ticks\": \"\", \"zerolinecolor\": \"white\"}}, \"shapedefaults\": {\"line\": {\"color\": \"#2a3f5f\"}}, \"ternary\": {\"aaxis\": {\"gridcolor\": \"white\", \"linecolor\": \"white\", \"ticks\": \"\"}, \"baxis\": {\"gridcolor\": \"white\", \"linecolor\": \"white\", \"ticks\": \"\"}, \"bgcolor\": \"#E5ECF6\", \"caxis\": {\"gridcolor\": \"white\", \"linecolor\": \"white\", \"ticks\": \"\"}}, \"title\": {\"x\": 0.05}, \"xaxis\": {\"automargin\": true, \"gridcolor\": \"white\", \"linecolor\": \"white\", \"ticks\": \"\", \"title\": {\"standoff\": 15}, \"zerolinecolor\": \"white\", \"zerolinewidth\": 2}, \"yaxis\": {\"automargin\": true, \"gridcolor\": \"white\", \"linecolor\": \"white\", \"ticks\": \"\", \"title\": {\"standoff\": 15}, \"zerolinecolor\": \"white\", \"zerolinewidth\": 2}}}, \"xaxis\": {\"constrain\": \"domain\", \"range\": [0, 2]}, \"yaxis\": {\"scaleanchor\": \"x\", \"scaleratio\": 1}},\n",
       "                        {\"responsive\": true}\n",
       "                    ).then(function(){\n",
       "                            \n",
       "var gd = document.getElementById('f8c45d80-1515-44a0-afef-6a03eb047a07');\n",
       "var x = new MutationObserver(function (mutations, observer) {{\n",
       "        var display = window.getComputedStyle(gd).display;\n",
       "        if (!display || display === 'none') {{\n",
       "            console.log([gd, 'removed!']);\n",
       "            Plotly.purge(gd);\n",
       "            observer.disconnect();\n",
       "        }}\n",
       "}});\n",
       "\n",
       "// Listen for the removal of the full notebook cells\n",
       "var notebookContainer = gd.closest('#notebook-container');\n",
       "if (notebookContainer) {{\n",
       "    x.observe(notebookContainer, {childList: true});\n",
       "}}\n",
       "\n",
       "// Listen for the clearing of the current output cell\n",
       "var outputEl = gd.closest('.output');\n",
       "if (outputEl) {{\n",
       "    x.observe(outputEl, {childList: true});\n",
       "}}\n",
       "\n",
       "                        })\n",
       "                };\n",
       "                });\n",
       "            </script>\n",
       "        </div>"
      ]
     },
     "metadata": {},
     "output_type": "display_data"
    }
   ],
   "source": [
    "fig = go.Figure()\n",
    "\n",
    "fig.add_trace(go.Scatter3d(x = [0,0,0,0,1,1,1,1],\n",
    "                         y = [0,1,1,0,0,1,1,0],\n",
    "                         z = [0,0,1,1,1,1,0,0],\n",
    "                         name='hilbert-curve-3d',\n",
    "                         mode='lines+markers'))\n",
    "\n",
    "fig.update_layout(\n",
    "    yaxis = dict(\n",
    "      scaleanchor = \"x\",\n",
    "      scaleratio = 1,\n",
    "    ),\n",
    "    xaxis = dict(\n",
    "        range=(0, 2),\n",
    "        constrain='domain'\n",
    "    )\n",
    ")\n",
    "fig.show()"
   ]
  }
 ],
 "metadata": {
  "kernelspec": {
   "display_name": "Python 3",
   "language": "python",
   "name": "python3"
  },
  "language_info": {
   "codemirror_mode": {
    "name": "ipython",
    "version": 3
   },
   "file_extension": ".py",
   "mimetype": "text/x-python",
   "name": "python",
   "nbconvert_exporter": "python",
   "pygments_lexer": "ipython3",
   "version": "3.7.6"
  }
 },
 "nbformat": 4,
 "nbformat_minor": 4
}
