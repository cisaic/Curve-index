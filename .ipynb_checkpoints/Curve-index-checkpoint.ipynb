{
 "cells": [
  {
   "cell_type": "code",
   "execution_count": 50,
   "metadata": {},
   "outputs": [],
   "source": [
    "import numpy as np\n",
    "from numpy import vstack\n",
    "import string"
   ]
  },
  {
   "cell_type": "code",
   "execution_count": 51,
   "metadata": {},
   "outputs": [],
   "source": [
    "def hilbert_index(seq):\n",
    "    '''\n",
    "    Converts input sequence into matrix index \n",
    "    for space filling curve in 4 quadrants ABCD\n",
    "    \n",
    "    Parameters:\n",
    "    ----------\n",
    "    seq: String\n",
    "        Input string to be converted \n",
    "        \n",
    "    Returns\n",
    "    -------\n",
    "    index: list\n",
    "        List of x,y matrix indices \n",
    "    '''\n",
    "    rules = {'a': np.array([0.0,0.0]),\n",
    "             'b': np.array([0.0,1.0]),\n",
    "             'c': np.array([1.0,0.0]),\n",
    "             'd': np.array([1.0,1.0])\n",
    "            }\n",
    "    dim = 2\n",
    "    index = np.array([])\n",
    "    \n",
    "    for order, val in enumerate(seq[::-1]):\n",
    "        if index.size == 0:\n",
    "            index = np.zeros_like(rules[val])\n",
    "        index += (dim ** (order)) * rules[val] \n",
    "    \n",
    "    return index\n",
    "        "
   ]
  },
  {
   "cell_type": "code",
   "execution_count": 52,
   "metadata": {},
   "outputs": [
    {
     "data": {
      "text/plain": [
       "array([12.,  9.])"
      ]
     },
     "execution_count": 52,
     "metadata": {},
     "output_type": "execute_result"
    }
   ],
   "source": [
    "hilbert_index('dcab')"
   ]
  },
  {
   "cell_type": "markdown",
   "metadata": {},
   "source": [
    "#### General function for space filling curve in two dimensions"
   ]
  },
  {
   "cell_type": "code",
   "execution_count": 53,
   "metadata": {},
   "outputs": [],
   "source": [
    "def calcIndex(dic, dim, order, seq, x):\n",
    "    \n",
    "    '''\n",
    "    Calculates index for particular dimension (x or y)\n",
    "    \n",
    "    Parameters:\n",
    "    ----------\n",
    "    dic: Dictionary \n",
    "        Labels with corresponding transformations\n",
    "        \n",
    "    seq: String\n",
    "        Input string to be converted \n",
    "        \n",
    "    dim: int\n",
    "        Dimension of curve at order 0 along x or y axis (given x)\n",
    "        \n",
    "    x: x or y axis (0 or 1)\n",
    "        \n",
    "    Returns\n",
    "    -------\n",
    "    span[0]: int\n",
    "        integer value for index position along given dimension \n",
    "    '''\n",
    "    span = np.array([0,0])\n",
    "    for count, val in enumerate(seq):\n",
    "        temp = np.array([0,0])\n",
    "\n",
    "        n = dim ** order\n",
    "        #row value\n",
    "        temp[0] = (n) * dic[val][x]/dim\n",
    "        \n",
    "        #column value\n",
    "        temp[1] = (n) * ((dic[val][x] + 1)/dim) - 1\n",
    "\n",
    "        if not np.any(span):\n",
    "            span = temp\n",
    "        else:\n",
    "\n",
    "            span[0] += temp[0]\n",
    "            span[1] -= (n - (temp[1]+1))\n",
    "\n",
    "        order -= 1\n",
    "    \n",
    "    return span[0]\n",
    "\n",
    "    "
   ]
  },
  {
   "cell_type": "code",
   "execution_count": 54,
   "metadata": {},
   "outputs": [],
   "source": [
    "def curve_index(dimRow, dimCol, seq):\n",
    "    '''\n",
    "    General function for converting sequence into numeric index\n",
    "    for any space filling curve in 2 dimensions\n",
    "    \n",
    "    Parameters:\n",
    "    ----------\n",
    "    dimRow: int\n",
    "        Row dimension of curve at order 0 \n",
    "    \n",
    "    dimCol : int\n",
    "        Column dimension of curve at order 0\n",
    "        \n",
    "    seq: String\n",
    "        Input string to be converted \n",
    "        \n",
    "    Returns\n",
    "    -------\n",
    "    index: list\n",
    "        List of x,y matrix indices \n",
    "    '''\n",
    "\n",
    "    states = dimRow * dimCol\n",
    "    order = len(seq)\n",
    "    \n",
    "    #create array of column/row transfromations\n",
    "    r = np.arange(dimRow)\n",
    "    c = np.arange(dimCol)\n",
    "    transform = np.array(np.meshgrid(r,c)).T.reshape(-1,2)\n",
    "    \n",
    "    #create array of alphabet given number of states\n",
    "    alph = string.ascii_letters[:states]\n",
    "    print('valid alphabet: ' , alph)\n",
    "    \n",
    "    if states > 2 * len(alph):\n",
    "        return 'invalid dimensions'\n",
    "    \n",
    "    #create dictionary of alphabet + (row,col) transformation pairs\n",
    "    dic = {}\n",
    "    for key, val in zip (alph, transform):\n",
    "        dic[key] = val\n",
    "        \n",
    "    #find row/column indices\n",
    "    indRow = calcIndex(dic, dimRow, order, seq, 0)\n",
    "    indCol = calcIndex(dic, dimCol, order, seq, 1)\n",
    "        \n",
    "    result = np.array([0]*2)\n",
    "    result[0] = indRow\n",
    "    result[1] = indCol\n",
    "    \n",
    "    return result"
   ]
  },
  {
   "cell_type": "code",
   "execution_count": 55,
   "metadata": {},
   "outputs": [
    {
     "name": "stdout",
     "output_type": "stream",
     "text": [
      "valid alphabet:  abcdef\n"
     ]
    },
    {
     "data": {
      "text/plain": [
       "array([58,  9])"
      ]
     },
     "execution_count": 55,
     "metadata": {},
     "output_type": "execute_result"
    }
   ],
   "source": [
    "curve_index(3,2,'facd')"
   ]
  },
  {
   "cell_type": "code",
   "execution_count": 56,
   "metadata": {},
   "outputs": [],
   "source": [
    "# find index along a particular dimension x\n",
    "# split range into _dim_ sections (ex. if dim = 3, split range into 3 sections)\n",
    "# follow dictionary to determine which subsection to narrow focus to\n",
    "def calcIndex2(dic, seq, dim, x):\n",
    "    \n",
    "    '''\n",
    "    Calculates index for particular dimension \n",
    "    \n",
    "    Parameters:\n",
    "    ----------\n",
    "    dic: Dictionary \n",
    "        Labels with corresponding transformations\n",
    "        \n",
    "    seq: String\n",
    "        Input string to be converted \n",
    "        \n",
    "    dim: int\n",
    "        Dimensions of curve at order 0 \n",
    "        \n",
    "    x: position of dimension to search in dictionary\n",
    "        \n",
    "    Returns\n",
    "    -------\n",
    "    span[0]: int\n",
    "        integer value for index position along given dimension \n",
    "    '''\n",
    "    \n",
    "    order = len(seq)\n",
    "    n = dim ** order\n",
    "    span = np.linspace(0, n, num=dim+1, endpoint=True, dtype = int)\n",
    "    \n",
    "    for val in seq:\n",
    "        index = dic[val][x]\n",
    "        span = np.linspace(span[index], span[index+1], num = dim+1, endpoint = True, dtype = int)\n",
    "\n",
    "    return span[0]"
   ]
  },
  {
   "cell_type": "code",
   "execution_count": 57,
   "metadata": {},
   "outputs": [],
   "source": [
    "# constrained to max 52 states for now, to maintain simplicity in label alphabet\n",
    "def curve_index2(seq, dims):\n",
    "    \n",
    "    '''\n",
    "    General function for converting sequence into numeric index\n",
    "    for any space filling curve in n dimensions\n",
    "    \n",
    "    Parameters:\n",
    "    ----------\n",
    "    seq: String\n",
    "        Input string to be converted \n",
    "        \n",
    "    dims: int array\n",
    "        Array of dimensions of curve at order 0 \n",
    "        \n",
    "    Returns\n",
    "    -------\n",
    "    result: list\n",
    "        List of matrix indices \n",
    "    '''\n",
    "\n",
    "    states = np.prod(dims)\n",
    "    \n",
    "    #transformation matrix \n",
    "    transform = [np.array(np.arange(dim)) for dim in dims]\n",
    "    tr = np.array(np.meshgrid(*transform)).T.reshape(-1,len(dims))\n",
    "    \n",
    "    #create orthant labels\n",
    "    alph = string.ascii_letters[:states]\n",
    "    print('valid alphabet: ' , alph)\n",
    "    \n",
    "    if states > 2 * len(alph):\n",
    "        return 'invalid dimensions'\n",
    "\n",
    "    #dictionary of orthant labels and corresponding transformations\n",
    "    dic = {}\n",
    "    for key, val in zip (alph, tr):\n",
    "        dic[key] = val\n",
    "    \n",
    "    # x, y, z, etc. coordinate values for point on the curve \n",
    "    result = np.zeros_like(dims)\n",
    "    for i, val in enumerate(dims): \n",
    "        result[i] = calcIndex2(dic, seq, dims[i], i)\n",
    "    \n",
    "    return result"
   ]
  },
  {
   "cell_type": "code",
   "execution_count": 58,
   "metadata": {},
   "outputs": [
    {
     "name": "stdout",
     "output_type": "stream",
     "text": [
      "valid alphabet:  abcd\n"
     ]
    },
    {
     "data": {
      "text/plain": [
       "array([12,  9])"
      ]
     },
     "execution_count": 58,
     "metadata": {},
     "output_type": "execute_result"
    }
   ],
   "source": [
    "curve_index2('dcab', dims = [2,2])"
   ]
  },
  {
   "cell_type": "code",
   "execution_count": 59,
   "metadata": {},
   "outputs": [
    {
     "name": "stdout",
     "output_type": "stream",
     "text": [
      "valid alphabet:  abcdef\n"
     ]
    },
    {
     "data": {
      "text/plain": [
       "array([58,  9])"
      ]
     },
     "execution_count": 59,
     "metadata": {},
     "output_type": "execute_result"
    }
   ],
   "source": [
    "curve_index2('facd', dims = [3,2])"
   ]
  },
  {
   "cell_type": "code",
   "execution_count": 60,
   "metadata": {},
   "outputs": [
    {
     "name": "stdout",
     "output_type": "stream",
     "text": [
      "valid alphabet:  abcdefghijklmnopqrstuvwxyzA\n"
     ]
    },
    {
     "data": {
      "text/plain": [
       "array([ 694, 1939,  403])"
      ]
     },
     "execution_count": 60,
     "metadata": {},
     "output_type": "execute_result"
    }
   ],
   "source": [
    "curve_index2('cqrxAtn', dims = [3,3,3])"
   ]
  },
  {
   "cell_type": "code",
   "execution_count": 61,
   "metadata": {},
   "outputs": [
    {
     "name": "stdout",
     "output_type": "stream",
     "text": [
      "valid alphabet:  abcdefghijklmnopqrstuvwxyzA\n"
     ]
    },
    {
     "data": {
      "text/plain": [
       "array([80, 80, 80])"
      ]
     },
     "execution_count": 61,
     "metadata": {},
     "output_type": "execute_result"
    }
   ],
   "source": [
    "# coordinates for space filling curve of 3x3x3 dimensions (at order 0), at point AAAA\n",
    "curve_index2('AAAA', dims = [3,3,3])"
   ]
  },
  {
   "cell_type": "code",
   "execution_count": 62,
   "metadata": {},
   "outputs": [
    {
     "name": "stdout",
     "output_type": "stream",
     "text": [
      "valid alphabet:  abcdefghijklmnopqrstuvwxyzABCDEFGHIJKLMNOPQRSTUV\n"
     ]
    },
    {
     "data": {
      "text/plain": [
       "array([2891, 8827,  344])"
      ]
     },
     "execution_count": 62,
     "metadata": {},
     "output_type": "execute_result"
    }
   ],
   "source": [
    "curve_index2('acyEfJkV', dims = [4,4,3])"
   ]
  },
  {
   "cell_type": "code",
   "execution_count": 63,
   "metadata": {},
   "outputs": [
    {
     "name": "stdout",
     "output_type": "stream",
     "text": [
      "valid alphabet:  abcdefghijklmnop\n"
     ]
    },
    {
     "data": {
      "text/plain": [
       "array([31, 51, 53, 13])"
      ]
     },
     "execution_count": 63,
     "metadata": {},
     "output_type": "execute_result"
    }
   ],
   "source": [
    "curve_index2('afhkodp', dims= [2,2,2,2])"
   ]
  }
 ],
 "metadata": {
  "kernelspec": {
   "display_name": "Python 3",
   "language": "python",
   "name": "python3"
  },
  "language_info": {
   "codemirror_mode": {
    "name": "ipython",
    "version": 3
   },
   "file_extension": ".py",
   "mimetype": "text/x-python",
   "name": "python",
   "nbconvert_exporter": "python",
   "pygments_lexer": "ipython3",
   "version": "3.6.5"
  }
 },
 "nbformat": 4,
 "nbformat_minor": 2
}
