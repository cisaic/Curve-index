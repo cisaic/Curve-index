{
 "cells": [
  {
   "cell_type": "code",
   "execution_count": 396,
   "metadata": {},
   "outputs": [],
   "source": [
    "import numpy as np\n",
    "import string"
   ]
  },
  {
   "cell_type": "markdown",
   "metadata": {},
   "source": [
    "# Define function to get x,y position of point on a hilbert curve, given orthant (ex. quadrants ABCD)"
   ]
  },
  {
   "cell_type": "markdown",
   "metadata": {},
   "source": [
    "#### For space filling curve in 4 quadrants, ABCD"
   ]
  },
  {
   "cell_type": "code",
   "execution_count": 243,
   "metadata": {},
   "outputs": [],
   "source": [
    "def hilbert_index(seq):\n",
    "    \n",
    "    rules = {'a': np.array([0.0,0.0]),\n",
    "            'b': np.array([0.0,0.5]),\n",
    "            'c': np.array([0.5,0.0]),\n",
    "            'd': np.array([0.5,0.5])\n",
    "            }\n",
    "    n = 2\n",
    "    index = np.array([])\n",
    "    \n",
    "    for order, val in enumerate(seq[::-1]):\n",
    "        if index.size == 0:\n",
    "            index = np.zeros_like(rules[val])\n",
    "        index += n ** (order+1) * rules[val]\n",
    "    \n",
    "    return index\n",
    "        "
   ]
  },
  {
   "cell_type": "code",
   "execution_count": 244,
   "metadata": {},
   "outputs": [
    {
     "data": {
      "text/plain": [
       "array([12.,  9.])"
      ]
     },
     "execution_count": 244,
     "metadata": {},
     "output_type": "execute_result"
    }
   ],
   "source": [
    "hilbert_index('dcab')"
   ]
  },
  {
   "cell_type": "markdown",
   "metadata": {},
   "source": [
    "#### General function for space filling curve in two dimensions"
   ]
  },
  {
   "cell_type": "code",
   "execution_count": 416,
   "metadata": {},
   "outputs": [],
   "source": [
    "# general function for any space filling curve\n",
    "#TODO: error check if dimRow and dimCol are integers\n",
    "#      error check if dimensions exceed 26 (number of letters in alphabet) until I come up with a better numbering system\n",
    "#      error check that seq is string, and letters are valid given dimensions\n",
    "#      this is for two dimensions but in theory it could be extended to any arbitrary dimensions\n",
    "#      do ahmed's method of breaking into n pairs, eliminate others\n",
    "def curve_index(dimRow, dimCol, seq):\n",
    "\n",
    "    states = dimRow * dimCol\n",
    "    order = len(seq)\n",
    "    \n",
    "    #create array of column/row transfromations\n",
    "    r = np.arange(dimRow)\n",
    "    c = np.arange(dimCol)\n",
    "    transform = np.array(np.meshgrid(r,c)).T.reshape(-1,2)\n",
    "    \n",
    "    #create array of alphabet given number of states\n",
    "    alph = string.ascii_lowercase[:states]\n",
    "    \n",
    "    #create dictionary of alphabet + (row,col) transformation pairs\n",
    "    dic = {}\n",
    "    for key, val in zip (alph, transform):\n",
    "        dic[key] = val\n",
    "        \n",
    "    #find row/column indices\n",
    "    indRow = calcIndex(dic, dimRow, order, seq, 0)\n",
    "    indCol = calcIndex(dic, dimCol, order, seq, 1)\n",
    "        \n",
    "    # 2 bc 2 dimensions, TODO expand to mult dimensions then create 0 array of size dimensions count\n",
    "    result = np.array([0]*2)\n",
    "    result[0] = indRow\n",
    "    result[1] = indCol\n",
    "    \n",
    "    return result\n",
    "\n",
    "\n",
    "def calcIndex(dic, dim, order, seq, x):\n",
    "    index = np.array([0,0])\n",
    "    for count, val in enumerate(seq):\n",
    "        temp = np.array([0,0])\n",
    "\n",
    "        n = dim ** order\n",
    "        temp[0] = (n) * dic[val][x]/dim\n",
    "        temp[1] = (n) * ((dic[val][x] + 1)/dim) - 1\n",
    "\n",
    "        if not np.any(index):\n",
    "            index = temp\n",
    "        else:\n",
    "\n",
    "            index[0] += temp[0]\n",
    "            index[1] -= (n - (temp[1]+1))\n",
    "\n",
    "        order -= 1\n",
    "        \n",
    "    assert index[0] == index[1]\n",
    "    return index[0]\n",
    "\n",
    "    "
   ]
  },
  {
   "cell_type": "code",
   "execution_count": 417,
   "metadata": {},
   "outputs": [
    {
     "data": {
      "text/plain": [
       "array([58,  9])"
      ]
     },
     "execution_count": 417,
     "metadata": {},
     "output_type": "execute_result"
    }
   ],
   "source": [
    "curve_index(3,2,'facd')"
   ]
  },
  {
   "cell_type": "code",
   "execution_count": null,
   "metadata": {},
   "outputs": [],
   "source": [
    "# TODO: mult. dimensions -> seq, dims=[1,3,5,3,2]"
   ]
  },
  {
   "cell_type": "code",
   "execution_count": 418,
   "metadata": {
    "scrolled": true
   },
   "outputs": [
    {
     "data": {
      "text/plain": [
       "[0, 0, 0, 0, 0]"
      ]
     },
     "execution_count": 418,
     "metadata": {},
     "output_type": "execute_result"
    }
   ],
   "source": [
    "[0]*5"
   ]
  },
  {
   "cell_type": "code",
   "execution_count": null,
   "metadata": {},
   "outputs": [],
   "source": []
  }
 ],
 "metadata": {
  "kernelspec": {
   "display_name": "Python 3",
   "language": "python",
   "name": "python3"
  },
  "language_info": {
   "codemirror_mode": {
    "name": "ipython",
    "version": 3
   },
   "file_extension": ".py",
   "mimetype": "text/x-python",
   "name": "python",
   "nbconvert_exporter": "python",
   "pygments_lexer": "ipython3",
   "version": "3.6.5"
  }
 },
 "nbformat": 4,
 "nbformat_minor": 2
}
